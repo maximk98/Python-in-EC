{
 "cells": [
  {
   "cell_type": "code",
   "execution_count": 1,
   "id": "34ea55c3-5e80-4278-bad9-51dd8343c4cf",
   "metadata": {},
   "outputs": [],
   "source": [
    "import pandas as pd\n",
    "\n",
    "# Из строки:\n",
    "ts1 = pd.Timestamp('2023-10-27 10:00:00')"
   ]
  },
  {
   "cell_type": "code",
   "execution_count": 2,
   "id": "7e1e8184-7664-43be-a9d3-6cefba5ffa9c",
   "metadata": {},
   "outputs": [
    {
     "name": "stdout",
     "output_type": "stream",
     "text": [
      "2023-10-27 10:00:00\n"
     ]
    }
   ],
   "source": [
    "print(ts1)"
   ]
  },
  {
   "cell_type": "code",
   "execution_count": 3,
   "id": "e329af2e-fc54-4e31-8f9d-4730636db736",
   "metadata": {},
   "outputs": [],
   "source": [
    "# Из отдельных компонентов:\n",
    "ts2 = pd.Timestamp(year=2023, month=10, day=27, hour=10, minute=30)  "
   ]
  },
  {
   "cell_type": "code",
   "execution_count": 4,
   "id": "ce78bc97-8729-4d8a-968f-4e10dabeccdc",
   "metadata": {},
   "outputs": [
    {
     "name": "stdout",
     "output_type": "stream",
     "text": [
      "2023-10-27 10:30:00\n"
     ]
    }
   ],
   "source": [
    "print(ts2)"
   ]
  },
  {
   "cell_type": "code",
   "execution_count": 5,
   "id": "0f43de04-b0f4-40d6-8936-0ae0f5c47a91",
   "metadata": {},
   "outputs": [],
   "source": [
    "# Текущее время:\n",
    "ts3 = pd.Timestamp.now()"
   ]
  },
  {
   "cell_type": "code",
   "execution_count": 6,
   "id": "b8f2a35b-95e2-48bc-b61f-0cff2757c7ff",
   "metadata": {},
   "outputs": [
    {
     "name": "stdout",
     "output_type": "stream",
     "text": [
      "2024-07-29 10:52:37.293819\n"
     ]
    }
   ],
   "source": [
    "print(ts3)"
   ]
  },
  {
   "cell_type": "code",
   "execution_count": 7,
   "id": "f0e83114-8e31-4ab5-b7a7-9ee898d6889f",
   "metadata": {},
   "outputs": [
    {
     "name": "stdout",
     "output_type": "stream",
     "text": [
      "2023-10-27 10:00:00\n"
     ]
    }
   ],
   "source": [
    "print(ts1)"
   ]
  },
  {
   "cell_type": "code",
   "execution_count": 8,
   "id": "a2a943c8-fe04-4f0b-9c83-cfabf3c0b814",
   "metadata": {},
   "outputs": [
    {
     "name": "stdout",
     "output_type": "stream",
     "text": [
      "2023\n"
     ]
    }
   ],
   "source": [
    "print(ts1.year)       # 2023"
   ]
  },
  {
   "cell_type": "code",
   "execution_count": 9,
   "id": "53735f22-7092-46d9-9a24-881715349d2c",
   "metadata": {},
   "outputs": [
    {
     "name": "stdout",
     "output_type": "stream",
     "text": [
      "10\n"
     ]
    }
   ],
   "source": [
    "print(ts1.month)      # 10"
   ]
  },
  {
   "cell_type": "code",
   "execution_count": 10,
   "id": "b9da18c9-2145-4ba0-982a-dee0ef78b75f",
   "metadata": {},
   "outputs": [
    {
     "name": "stdout",
     "output_type": "stream",
     "text": [
      "27\n"
     ]
    }
   ],
   "source": [
    "print(ts1.day)        # 27"
   ]
  },
  {
   "cell_type": "code",
   "execution_count": 11,
   "id": "660cb717-2932-4a1d-b20f-26b72dfd8bff",
   "metadata": {},
   "outputs": [
    {
     "name": "stdout",
     "output_type": "stream",
     "text": [
      "10\n"
     ]
    }
   ],
   "source": [
    "print(ts1.hour)       # 10"
   ]
  },
  {
   "cell_type": "code",
   "execution_count": 12,
   "id": "c94b30b9-a769-42b3-8ae5-a0216f82609e",
   "metadata": {},
   "outputs": [
    {
     "name": "stdout",
     "output_type": "stream",
     "text": [
      "0\n"
     ]
    }
   ],
   "source": [
    "print(ts1.minute)     # 0"
   ]
  },
  {
   "cell_type": "code",
   "execution_count": 13,
   "id": "c8c9ab4e-81ee-463b-86d0-6ece41e81d60",
   "metadata": {},
   "outputs": [
    {
     "name": "stdout",
     "output_type": "stream",
     "text": [
      "0\n"
     ]
    }
   ],
   "source": [
    "print(ts1.second)     # 0"
   ]
  },
  {
   "cell_type": "code",
   "execution_count": 14,
   "id": "dfe14863-bf6d-4b35-a945-f177463914de",
   "metadata": {},
   "outputs": [
    {
     "name": "stdout",
     "output_type": "stream",
     "text": [
      "Friday\n"
     ]
    }
   ],
   "source": [
    "print(ts1.day_name()) # Friday"
   ]
  },
  {
   "cell_type": "code",
   "execution_count": 16,
   "id": "3f564b8d-9588-4ba7-8fac-7923dc0d2eae",
   "metadata": {},
   "outputs": [
    {
     "name": "stdout",
     "output_type": "stream",
     "text": [
      "2023-10-27 12:00:00\n"
     ]
    }
   ],
   "source": [
    "from pandas.tseries.offsets import Hour\n",
    "\n",
    "ts4 = ts1 + Hour(2)  # Добавляем 2 часа\n",
    "print(ts4)           # 2023-10-27 12:00:00"
   ]
  },
  {
   "cell_type": "code",
   "execution_count": 17,
   "id": "8779b638-0979-45d6-8e80-fe867918f6ce",
   "metadata": {},
   "outputs": [
    {
     "name": "stdout",
     "output_type": "stream",
     "text": [
      "Время начала: 2023-10-27 10:00:00\n",
      "Продолжительность: 3 days 05:15:00\n",
      "Время окончания: 2023-10-30 15:15:00\n"
     ]
    }
   ],
   "source": [
    "# Создаем объект Timestamp для даты и времени начала\n",
    "start_time = pd.Timestamp('2023-10-27 10:00:00')\n",
    "\n",
    "# Создаем объект Timedelta для представления продолжительности\n",
    "duration = pd.Timedelta(days=3, hours=5, minutes=15)\n",
    "\n",
    "# Вычисляем дату и время окончания, добавляя Timedelta к Timestamp\n",
    "end_time = start_time + duration\n",
    "\n",
    "print(f\"Время начала: {start_time}\")\n",
    "print(f\"Продолжительность: {duration}\")\n",
    "print(f\"Время окончания: {end_time}\")"
   ]
  },
  {
   "cell_type": "code",
   "execution_count": 18,
   "id": "b2d6a021-49c0-4993-acf2-b4154d9362ef",
   "metadata": {},
   "outputs": [
    {
     "name": "stdout",
     "output_type": "stream",
     "text": [
      "Количество дней в Timedelta: 3\n",
      "Количество секунд в Timedelta: 18900\n"
     ]
    }
   ],
   "source": [
    "# Можем извлечь информацию из Timedelta\n",
    "print(f\"Количество дней в Timedelta: {duration.days}\")\n",
    "print(f\"Количество секунд в Timedelta: {duration.seconds}\")"
   ]
  },
  {
   "cell_type": "code",
   "execution_count": 19,
   "id": "dea4c823-8286-495a-a89d-06c6c582d828",
   "metadata": {},
   "outputs": [
    {
     "name": "stdout",
     "output_type": "stream",
     "text": [
      "Новое время: 2023-10-27 08:00:00\n"
     ]
    }
   ],
   "source": [
    "# Можем выполнить арифметические действия с Timestamp и Timedelta\n",
    "new_time = start_time - pd.Timedelta(hours=2)\n",
    "print(f\"Новое время: {new_time}\")"
   ]
  },
  {
   "cell_type": "code",
   "execution_count": 20,
   "id": "b8f3325b-3996-4143-a03d-97cea14642d5",
   "metadata": {},
   "outputs": [],
   "source": [
    "# Из списка строк:\n",
    "dates1 = pd.to_datetime(['2023-10-25', '2023-10-26', '2023-10-27'])"
   ]
  },
  {
   "cell_type": "code",
   "execution_count": 21,
   "id": "2a54f7f6-45a7-41f9-be6e-7049f2bf5b66",
   "metadata": {},
   "outputs": [
    {
     "name": "stdout",
     "output_type": "stream",
     "text": [
      "DatetimeIndex(['2023-10-25', '2023-10-26', '2023-10-27'], dtype='datetime64[ns]', freq=None)\n"
     ]
    }
   ],
   "source": [
    "print(dates1)"
   ]
  },
  {
   "cell_type": "code",
   "execution_count": 28,
   "id": "e619c762-9d98-4d20-873d-2141d16266f5",
   "metadata": {},
   "outputs": [],
   "source": [
    "# Диапазон дат:\n",
    "dates2 = pd.date_range('2023-10-25', periods=5, freq='D') #  freq='D' -  daily"
   ]
  },
  {
   "cell_type": "code",
   "execution_count": 29,
   "id": "500789fe-b4f9-4d9b-a9f0-61157e3b5b9d",
   "metadata": {},
   "outputs": [
    {
     "name": "stdout",
     "output_type": "stream",
     "text": [
      "DatetimeIndex(['2023-10-25', '2023-10-26', '2023-10-27', '2023-10-28',\n",
      "               '2023-10-29'],\n",
      "              dtype='datetime64[ns]', freq='D')\n"
     ]
    }
   ],
   "source": [
    "print(dates2)"
   ]
  },
  {
   "cell_type": "code",
   "execution_count": 30,
   "id": "a4cb7413-080f-4470-946a-5b3d767a45ef",
   "metadata": {},
   "outputs": [],
   "source": [
    "# Использование в качестве индекса при создании DataFrame:\n",
    "data = {'value': [10, 20, 30, 40, 50]}\n",
    "df = pd.DataFrame(data, index=dates2)"
   ]
  },
  {
   "cell_type": "code",
   "execution_count": 31,
   "id": "b17eccd4-f353-4c18-a1b5-4dc004d7a987",
   "metadata": {},
   "outputs": [
    {
     "name": "stdout",
     "output_type": "stream",
     "text": [
      "            value\n",
      "2023-10-25     10\n",
      "2023-10-26     20\n",
      "2023-10-27     30\n",
      "2023-10-28     40\n",
      "2023-10-29     50\n"
     ]
    }
   ],
   "source": [
    "print(df)"
   ]
  },
  {
   "cell_type": "code",
   "execution_count": 32,
   "id": "eac9291a-1241-4cb0-946a-ee6e8aba5759",
   "metadata": {},
   "outputs": [],
   "source": [
    "dates = pd.date_range('2023-10-20', periods=10)"
   ]
  },
  {
   "cell_type": "code",
   "execution_count": 33,
   "id": "120f8703-630a-4274-9d8a-24be9357e53c",
   "metadata": {},
   "outputs": [
    {
     "name": "stdout",
     "output_type": "stream",
     "text": [
      "DatetimeIndex(['2023-10-20', '2023-10-21', '2023-10-22', '2023-10-23',\n",
      "               '2023-10-24', '2023-10-25', '2023-10-26', '2023-10-27',\n",
      "               '2023-10-28', '2023-10-29'],\n",
      "              dtype='datetime64[ns]', freq='D')\n"
     ]
    }
   ],
   "source": [
    "print(dates)"
   ]
  },
  {
   "cell_type": "code",
   "execution_count": 34,
   "id": "a2719293-d41c-455c-bffd-b95662ad9651",
   "metadata": {},
   "outputs": [],
   "source": [
    "df = pd.DataFrame({'value': range(10)}, index=dates)"
   ]
  },
  {
   "cell_type": "code",
   "execution_count": 35,
   "id": "2f5bcaac-a9fa-4175-a58c-7f681bb8bc8f",
   "metadata": {},
   "outputs": [
    {
     "name": "stdout",
     "output_type": "stream",
     "text": [
      "            value\n",
      "2023-10-20      0\n",
      "2023-10-21      1\n",
      "2023-10-22      2\n",
      "2023-10-23      3\n",
      "2023-10-24      4\n",
      "2023-10-25      5\n",
      "2023-10-26      6\n",
      "2023-10-27      7\n",
      "2023-10-28      8\n",
      "2023-10-29      9\n"
     ]
    }
   ],
   "source": [
    "print(df)"
   ]
  },
  {
   "cell_type": "code",
   "execution_count": 36,
   "id": "e2eb1a85-4d88-4815-a12e-9483901510f9",
   "metadata": {},
   "outputs": [
    {
     "name": "stdout",
     "output_type": "stream",
     "text": [
      "            value\n",
      "2023-10-23      3\n",
      "2023-10-24      4\n",
      "2023-10-25      5\n",
      "2023-10-26      6\n"
     ]
    }
   ],
   "source": [
    "print(df['2023-10-23':'2023-10-26'])"
   ]
  },
  {
   "cell_type": "code",
   "execution_count": 37,
   "id": "df86b8bd-2f0d-4e98-8939-cb2cd2ab2228",
   "metadata": {},
   "outputs": [],
   "source": [
    "dates2 = pd.date_range('2023-10-25', periods=5, freq='D') #  freq='D' -  daily"
   ]
  },
  {
   "cell_type": "code",
   "execution_count": 38,
   "id": "1d691419-f526-457a-b35d-c713b883e58b",
   "metadata": {},
   "outputs": [
    {
     "name": "stdout",
     "output_type": "stream",
     "text": [
      "DatetimeIndex(['2023-10-25', '2023-10-26', '2023-10-27', '2023-10-28',\n",
      "               '2023-10-29'],\n",
      "              dtype='datetime64[ns]', freq='D')\n"
     ]
    }
   ],
   "source": [
    "print(dates2)"
   ]
  },
  {
   "cell_type": "code",
   "execution_count": 39,
   "id": "00257dda-9a8b-488b-b327-7f958625503e",
   "metadata": {},
   "outputs": [
    {
     "name": "stdout",
     "output_type": "stream",
     "text": [
      "Index([2023, 2023, 2023, 2023, 2023], dtype='int32')\n"
     ]
    }
   ],
   "source": [
    "print(dates2.year)     # [2023 2023 2023 2023 2023]"
   ]
  },
  {
   "cell_type": "code",
   "execution_count": 40,
   "id": "2a0658ba-464c-40f6-89c8-2522a5c886ce",
   "metadata": {},
   "outputs": [
    {
     "name": "stdout",
     "output_type": "stream",
     "text": [
      "Index([2, 3, 4, 5, 6], dtype='int32')\n"
     ]
    }
   ],
   "source": [
    "print(dates2.weekday)  # [2 3 4 5 6]"
   ]
  },
  {
   "cell_type": "code",
   "execution_count": 41,
   "id": "b896c1a6-fac6-41cf-9a55-be78af218340",
   "metadata": {},
   "outputs": [
    {
     "name": "stdout",
     "output_type": "stream",
     "text": [
      "            value\n",
      "2023-10-20      0\n",
      "2023-10-21      1\n",
      "2023-10-22      2\n",
      "2023-10-23      3\n",
      "2023-10-24      4\n",
      "2023-10-25      5\n",
      "2023-10-26      6\n",
      "2023-10-27      7\n",
      "2023-10-28      8\n",
      "2023-10-29      9\n"
     ]
    }
   ],
   "source": [
    "print(df[df.index.year == 2023])  # Выбор данных по году"
   ]
  },
  {
   "cell_type": "code",
   "execution_count": 42,
   "id": "9c7fb570-52b5-4271-aa6f-9b57f57f148d",
   "metadata": {},
   "outputs": [
    {
     "name": "stdout",
     "output_type": "stream",
     "text": [
      "Empty DataFrame\n",
      "Columns: [value]\n",
      "Index: []\n"
     ]
    }
   ],
   "source": [
    "print(df[df.index.year == 2024])"
   ]
  },
  {
   "cell_type": "code",
   "execution_count": null,
   "id": "681b71e4-ad9c-4ff4-aad8-9803a184b370",
   "metadata": {},
   "outputs": [],
   "source": []
  }
 ],
 "metadata": {
  "kernelspec": {
   "display_name": "Python 3 (ipykernel)",
   "language": "python",
   "name": "python3"
  },
  "language_info": {
   "codemirror_mode": {
    "name": "ipython",
    "version": 3
   },
   "file_extension": ".py",
   "mimetype": "text/x-python",
   "name": "python",
   "nbconvert_exporter": "python",
   "pygments_lexer": "ipython3",
   "version": "3.8.7"
  }
 },
 "nbformat": 4,
 "nbformat_minor": 5
}
