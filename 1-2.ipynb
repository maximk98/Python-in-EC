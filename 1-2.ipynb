{
 "cells": [
  {
   "cell_type": "code",
   "execution_count": 1,
   "id": "bfde9ad9-5567-43fa-a33b-95a4888a83a0",
   "metadata": {
    "editable": true,
    "slideshow": {
     "slide_type": ""
    },
    "tags": []
   },
   "outputs": [],
   "source": [
    "import pandas as pd\n",
    "# Из словаря (ключи становятся столбцами):\n",
    "data = {'name': ['Alice', 'Bob', 'Charlie'],\n",
    "        'age': [25, 30, 28],\n",
    "        'city': ['New York', 'London', 'Paris']}\n",
    "df1 = pd.DataFrame(data)"
   ]
  },
  {
   "cell_type": "code",
   "execution_count": 2,
   "id": "b5530225-845b-4473-9e15-1fd68754368c",
   "metadata": {},
   "outputs": [
    {
     "name": "stdout",
     "output_type": "stream",
     "text": [
      "      name  age      city\n",
      "0    Alice   25  New York\n",
      "1      Bob   30    London\n",
      "2  Charlie   28     Paris\n"
     ]
    }
   ],
   "source": [
    "print(df1)"
   ]
  },
  {
   "cell_type": "code",
   "execution_count": 6,
   "id": "583afd86-7eae-44ea-a1c8-33e22bdf5d6f",
   "metadata": {},
   "outputs": [],
   "source": [
    "# Из списка списков (каждый внутренний список - строка):\n",
    "data = [['Alice', 25, 'New York'], ['Bob', 30, 'London'], ['Charlie', 28, 'Paris']]\n",
    "df = pd.DataFrame(data, columns=['name', 'age', 'city'])"
   ]
  },
  {
   "cell_type": "code",
   "execution_count": 10,
   "id": "50431d9b-0cf7-4478-8c88-be823b68dbf9",
   "metadata": {},
   "outputs": [
    {
     "name": "stdout",
     "output_type": "stream",
     "text": [
      "      name  age      city\n",
      "0    Alice   25  New York\n",
      "1      Bob   30    London\n",
      "2  Charlie   28     Paris\n"
     ]
    }
   ],
   "source": [
    "print(df)"
   ]
  },
  {
   "cell_type": "code",
   "execution_count": 7,
   "id": "8db99a10-2c75-41aa-b698-76fb440938ea",
   "metadata": {},
   "outputs": [
    {
     "name": "stdout",
     "output_type": "stream",
     "text": [
      "0    25\n",
      "1    30\n",
      "2    28\n",
      "Name: age, dtype: int64\n"
     ]
    }
   ],
   "source": [
    "# Весь столбец по имени:\n",
    "print(df['age'])"
   ]
  },
  {
   "cell_type": "code",
   "execution_count": 8,
   "id": "e314151c-9dbe-4358-8055-d027f178e354",
   "metadata": {},
   "outputs": [
    {
     "name": "stdout",
     "output_type": "stream",
     "text": [
      "name       Bob\n",
      "age         30\n",
      "city    London\n",
      "Name: 1, dtype: object\n"
     ]
    }
   ],
   "source": [
    "# Строка по индексу (с помощью .loc):\n",
    "print(df.loc[1])"
   ]
  },
  {
   "cell_type": "code",
   "execution_count": 9,
   "id": "00b974f1-37a9-44b1-9c04-bded662acdc4",
   "metadata": {},
   "outputs": [
    {
     "name": "stdout",
     "output_type": "stream",
     "text": [
      "New York\n"
     ]
    }
   ],
   "source": [
    "# Элемент по индексу строки и столбца (с помощью .iloc):\n",
    "print(df.iloc[0, 2])  # 'New York'"
   ]
  },
  {
   "cell_type": "code",
   "execution_count": null,
   "id": "ab98d97a-1668-4217-b754-5c4992e7a103",
   "metadata": {},
   "outputs": [],
   "source": []
  }
 ],
 "metadata": {
  "kernelspec": {
   "display_name": "Python 3 (ipykernel)",
   "language": "python",
   "name": "python3"
  },
  "language_info": {
   "codemirror_mode": {
    "name": "ipython",
    "version": 3
   },
   "file_extension": ".py",
   "mimetype": "text/x-python",
   "name": "python",
   "nbconvert_exporter": "python",
   "pygments_lexer": "ipython3",
   "version": "3.8.7"
  }
 },
 "nbformat": 4,
 "nbformat_minor": 5
}
