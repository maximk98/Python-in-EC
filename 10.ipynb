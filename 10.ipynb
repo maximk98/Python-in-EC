{
 "cells": [
  {
   "cell_type": "code",
   "execution_count": 12,
   "id": "d919dfec-e48d-4774-aee3-4fe1b2705b0b",
   "metadata": {},
   "outputs": [
    {
     "data": {
      "text/html": [
       "<div>\n",
       "<style scoped>\n",
       "    .dataframe tbody tr th:only-of-type {\n",
       "        vertical-align: middle;\n",
       "    }\n",
       "\n",
       "    .dataframe tbody tr th {\n",
       "        vertical-align: top;\n",
       "    }\n",
       "\n",
       "    .dataframe thead th {\n",
       "        text-align: right;\n",
       "    }\n",
       "</style>\n",
       "<table border=\"1\" class=\"dataframe\">\n",
       "  <thead>\n",
       "    <tr style=\"text-align: right;\">\n",
       "      <th></th>\n",
       "      <th>sepal length (cm)</th>\n",
       "      <th>sepal width (cm)</th>\n",
       "      <th>petal length (cm)</th>\n",
       "      <th>petal width (cm)</th>\n",
       "      <th>target</th>\n",
       "    </tr>\n",
       "  </thead>\n",
       "  <tbody>\n",
       "    <tr>\n",
       "      <th>0</th>\n",
       "      <td>5.1</td>\n",
       "      <td>3.5</td>\n",
       "      <td>1.4</td>\n",
       "      <td>0.2</td>\n",
       "      <td>0</td>\n",
       "    </tr>\n",
       "    <tr>\n",
       "      <th>1</th>\n",
       "      <td>4.9</td>\n",
       "      <td>3.0</td>\n",
       "      <td>1.4</td>\n",
       "      <td>0.2</td>\n",
       "      <td>0</td>\n",
       "    </tr>\n",
       "    <tr>\n",
       "      <th>2</th>\n",
       "      <td>4.7</td>\n",
       "      <td>3.2</td>\n",
       "      <td>1.3</td>\n",
       "      <td>0.2</td>\n",
       "      <td>0</td>\n",
       "    </tr>\n",
       "    <tr>\n",
       "      <th>3</th>\n",
       "      <td>4.6</td>\n",
       "      <td>3.1</td>\n",
       "      <td>1.5</td>\n",
       "      <td>0.2</td>\n",
       "      <td>0</td>\n",
       "    </tr>\n",
       "    <tr>\n",
       "      <th>4</th>\n",
       "      <td>5.0</td>\n",
       "      <td>3.6</td>\n",
       "      <td>1.4</td>\n",
       "      <td>0.2</td>\n",
       "      <td>0</td>\n",
       "    </tr>\n",
       "  </tbody>\n",
       "</table>\n",
       "</div>"
      ],
      "text/plain": [
       "   sepal length (cm)  sepal width (cm)  petal length (cm)  petal width (cm)  \\\n",
       "0                5.1               3.5                1.4               0.2   \n",
       "1                4.9               3.0                1.4               0.2   \n",
       "2                4.7               3.2                1.3               0.2   \n",
       "3                4.6               3.1                1.5               0.2   \n",
       "4                5.0               3.6                1.4               0.2   \n",
       "\n",
       "   target  \n",
       "0       0  \n",
       "1       0  \n",
       "2       0  \n",
       "3       0  \n",
       "4       0  "
      ]
     },
     "execution_count": 12,
     "metadata": {},
     "output_type": "execute_result"
    }
   ],
   "source": [
    "from sklearn import datasets\n",
    "\n",
    "data = datasets.load_iris()\n",
    "\n",
    "import pandas as pd\n",
    "\n",
    "# Создадим DataFrame.\n",
    "df = pd.DataFrame(data.data, columns=data.feature_names)\n",
    "# Добавим столбец \"target\" и заполним его данными.\n",
    "df['target'] = data.target\n",
    "# Выведем на экран первые пять строк.\n",
    "df.head()"
   ]
  },
  {
   "cell_type": "code",
   "execution_count": 13,
   "id": "83277ff0-6b30-451f-9ead-63afd7b86be7",
   "metadata": {},
   "outputs": [],
   "source": [
    "from sklearn.preprocessing import OneHotEncoder\n",
    "import pandas as pd\n",
    "\n",
    "data = pd.DataFrame({'Region': ['A', 'B', 'C', 'A']})\n",
    "encoder = OneHotEncoder()\n",
    "encoded_data = encoder.fit_transform(data[['Region']]).toarray()"
   ]
  },
  {
   "cell_type": "code",
   "execution_count": 15,
   "id": "45c98b02-a887-4474-8d3e-7e60708b6c24",
   "metadata": {},
   "outputs": [
    {
     "name": "stdout",
     "output_type": "stream",
     "text": [
      "  Region\n",
      "0      A\n",
      "1      B\n",
      "2      C\n",
      "3      A\n"
     ]
    }
   ],
   "source": [
    "print(data)"
   ]
  },
  {
   "cell_type": "code",
   "execution_count": 14,
   "id": "cdd13363-24d4-43f9-8b9a-8fa01cf4488a",
   "metadata": {},
   "outputs": [
    {
     "name": "stdout",
     "output_type": "stream",
     "text": [
      "[[1. 0. 0.]\n",
      " [0. 1. 0.]\n",
      " [0. 0. 1.]\n",
      " [1. 0. 0.]]\n"
     ]
    }
   ],
   "source": [
    "print(encoded_data)"
   ]
  },
  {
   "cell_type": "code",
   "execution_count": 17,
   "id": "61af6fd2-ba79-489b-8095-8124be1a2b51",
   "metadata": {},
   "outputs": [
    {
     "name": "stdout",
     "output_type": "stream",
     "text": [
      "Исходные данные:\n",
      "     Household   Income  Expenditure\n",
      "0  Household 1  50000.0      20000.0\n",
      "1  Household 2      NaN      15000.0\n",
      "2  Household 3  45000.0          NaN\n",
      "3  Household 4  48000.0      18000.0\n",
      "\n",
      "Данные после заполнения пропусков средним:\n",
      "     Household        Income   Expenditure\n",
      "0  Household 1  50000.000000  20000.000000\n",
      "1  Household 2  47666.666667  15000.000000\n",
      "2  Household 3  45000.000000  17666.666667\n",
      "3  Household 4  48000.000000  18000.000000\n"
     ]
    }
   ],
   "source": [
    "import numpy as np\n",
    "import pandas as pd\n",
    "from sklearn.impute import SimpleImputer\n",
    "\n",
    "# Создадим DataFrame с данными\n",
    "data = pd.DataFrame({\n",
    "    'Household': ['Household 1', 'Household 2', 'Household 3', 'Household 4'],\n",
    "    'Income': [50000, np.nan, 45000, 48000],  # Доходы с пропущенными значениями\n",
    "    'Expenditure': [20000, 15000, np.nan, 18000]  # Расходы с пропущенными значениями\n",
    "})\n",
    "\n",
    "print(\"Исходные данные:\")\n",
    "print(data)\n",
    "\n",
    "# Инициализируем SimpleImputer для замены пропущенных значений средним\n",
    "imputer = SimpleImputer(strategy='mean')\n",
    "\n",
    "# Преобразуем данные, заменяя пропущенные значения в столбце 'Income'\n",
    "data['Income'] = imputer.fit_transform(data[['Income']])\n",
    "\n",
    "# Преобразуем данные, заменяя пропущенные значения в столбце 'Expenditure'\n",
    "data['Expenditure'] = imputer.fit_transform(data[['Expenditure']])\n",
    "\n",
    "print(\"\\nДанные после заполнения пропусков средним:\")\n",
    "print(data)\n"
   ]
  },
  {
   "cell_type": "code",
   "execution_count": null,
   "id": "19e96c44-9616-4cec-a698-091b2e2a8496",
   "metadata": {},
   "outputs": [],
   "source": [
    "from sklearn.preprocessing import StandardScaler\n",
    "\n",
    "scaler = StandardScaler()\n",
    "X_scaled = scaler.fit_transform(X)"
   ]
  },
  {
   "cell_type": "code",
   "execution_count": null,
   "id": "8bd78270-cb4f-4808-81a7-2a067f733997",
   "metadata": {},
   "outputs": [],
   "source": [
    "import pandas as pd\n",
    "from sklearn.model_selection import train_test_split\n",
    "\n",
    "# Создаем DataFrame с данными\n",
    "data = pd.DataFrame({\n",
    "    'Age': [25, 30, 45, 35, 50, 40, 23, 37, 48, 55],\n",
    "    'EducationLevel': [12, 16, 18, 14, 20, 16, 12, 15, 19, 21],\n",
    "    'Income': [40000, 50000, 80000, 60000, 100000, 75000, 35000, 65000, 90000, 110000]\n",
    "})\n",
    "\n",
    "# Определяем признаки (X) и целевую переменную (y)\n",
    "X = data[['Age', 'EducationLevel']]\n",
    "y = data['Income']\n",
    "\n",
    "# Разделяем данные на тренировочную и тестовую выборки\n",
    "X_train, X_test, y_train, y_test = train_test_split(X, y, test_size=0.2, random_state=42)"
   ]
  },
  {
   "cell_type": "code",
   "execution_count": null,
   "id": "5d9f6f28-4c81-4b4d-aba8-013fa42dec09",
   "metadata": {},
   "outputs": [],
   "source": [
    "from sklearn.model_selection import cross_val_score\n",
    "\n",
    "scores = cross_val_score(model, X_train, y_train, cv=5)\n",
    "print(\"Средняя точность: \", scores.mean())"
   ]
  },
  {
   "cell_type": "code",
   "execution_count": null,
   "id": "5fedeb7c-9525-48c4-80d5-9a5f2e91cf58",
   "metadata": {},
   "outputs": [],
   "source": [
    "from sklearn.preprocessing import MinMaxScaler\n",
    "\n",
    "scaler = MinMaxScaler()\n",
    "X_scaled = scaler.fit_transform(X)"
   ]
  },
  {
   "cell_type": "code",
   "execution_count": null,
   "id": "ee9603d9-e507-48c6-a465-fcf0f4104438",
   "metadata": {},
   "outputs": [],
   "source": [
    "from sklearn.preprocessing import Normalizer\n",
    "\n",
    "normalizer = Normalizer(norm='max')\n",
    "X_normalized = normalizer.fit_transform(X)"
   ]
  },
  {
   "cell_type": "code",
   "execution_count": null,
   "id": "af2c569f-dbbb-4f65-95e3-46dfa6f7bedc",
   "metadata": {},
   "outputs": [],
   "source": [
    "from sklearn.datasets import load_boston\n",
    "from sklearn.model_selection import train_test_split\n",
    "\n",
    "data = load_boston()\n",
    "X = data.data\n",
    "y = data.target\n",
    "\n",
    "X_train, X_test, y_train, y_test = train_test_split(X, y, test_size=0.2, random_state=42)\n",
    "model = LinearRegression()\n",
    "model.fit(X_train, y_train)\n",
    "predictions = model.predict(X_test)"
   ]
  },
  {
   "cell_type": "code",
   "execution_count": null,
   "id": "a2310492-dda9-44c4-81d5-2d8a75ca1c6f",
   "metadata": {},
   "outputs": [],
   "source": [
    "from sklearn.datasets import load_boston\n",
    "from sklearn.model_selection import train_test_split\n",
    "\n",
    "data = load_boston()\n",
    "X = data.data\n",
    "y = data.target\n",
    "\n",
    "X_train, X_test, y_train, y_test = train_test_split(X, y, test_size=0.2, random_state=42)\n",
    "model = LinearRegression()\n",
    "model.fit(X_train, y_train)\n",
    "predictions = model.predict(X_test)"
   ]
  },
  {
   "cell_type": "code",
   "execution_count": null,
   "id": "f13c9aa3-5121-4387-9643-3400f188bef0",
   "metadata": {},
   "outputs": [],
   "source": [
    "from sklearn.linear_model import Ridge, Lasso\n",
    "\n",
    "ridge = Ridge(alpha=1.0)\n",
    "lasso = Lasso(alpha=0.1)\n",
    "\n",
    "ridge.fit(X_train, y_train)\n",
    "lasso.fit(X_train, y_train)"
   ]
  },
  {
   "cell_type": "code",
   "execution_count": null,
   "id": "f2f495b7-976a-4719-aff6-93b9d768adc4",
   "metadata": {},
   "outputs": [],
   "source": []
  }
 ],
 "metadata": {
  "kernelspec": {
   "display_name": "Python 3 (ipykernel)",
   "language": "python",
   "name": "python3"
  },
  "language_info": {
   "codemirror_mode": {
    "name": "ipython",
    "version": 3
   },
   "file_extension": ".py",
   "mimetype": "text/x-python",
   "name": "python",
   "nbconvert_exporter": "python",
   "pygments_lexer": "ipython3",
   "version": "3.8.7"
  }
 },
 "nbformat": 4,
 "nbformat_minor": 5
}
