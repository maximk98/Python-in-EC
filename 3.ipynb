{
 "cells": [
  {
   "cell_type": "code",
   "execution_count": 2,
   "id": "d02c607f-a097-49e0-b574-a511e5b431de",
   "metadata": {},
   "outputs": [],
   "source": [
    "import pandas as pd\n",
    "\n",
    "data = {'Имя': ['Анна', 'Иван', 'Петр'],\n",
    "        'Возраст': [25, 30, 28],\n",
    "        'Город': ['Москва', 'Санкт-Петербург', 'Казань']}\n",
    "df = pd.DataFrame(data, index=['A', 'B', 'C'])"
   ]
  },
  {
   "cell_type": "code",
   "execution_count": 3,
   "id": "ba504f4f-4fb7-4177-a397-6004532931d0",
   "metadata": {},
   "outputs": [
    {
     "name": "stdout",
     "output_type": "stream",
     "text": [
      "    Имя  Возраст            Город\n",
      "A  Анна       25           Москва\n",
      "B  Иван       30  Санкт-Петербург\n",
      "C  Петр       28           Казань\n"
     ]
    }
   ],
   "source": [
    "print(df)"
   ]
  },
  {
   "cell_type": "code",
   "execution_count": 4,
   "id": "2e5748ed-a565-460d-9f89-c1054e710959",
   "metadata": {},
   "outputs": [
    {
     "name": "stdout",
     "output_type": "stream",
     "text": [
      "A    Анна\n",
      "B    Иван\n",
      "C    Петр\n",
      "Name: Имя, dtype: object\n"
     ]
    }
   ],
   "source": [
    "# Выбор всех значений столбца 'Имя'\n",
    "print(df['Имя'])  "
   ]
  },
  {
   "cell_type": "code",
   "execution_count": 5,
   "id": "feafd099-a090-4a5f-8bef-198f6521f0e5",
   "metadata": {},
   "outputs": [
    {
     "name": "stdout",
     "output_type": "stream",
     "text": [
      "    Имя  Возраст            Город\n",
      "B  Иван       30  Санкт-Петербург\n"
     ]
    }
   ],
   "source": [
    "# Выбор строк с 1 по 2 (не включая 2)\n",
    "print(df[1:2])       "
   ]
  },
  {
   "cell_type": "code",
   "execution_count": 6,
   "id": "b925d632-e5d8-481b-8a00-c295c855465c",
   "metadata": {},
   "outputs": [
    {
     "name": "stdout",
     "output_type": "stream",
     "text": [
      "    Имя  Возраст            Город\n",
      "A  Анна       25           Москва\n",
      "B  Иван       30  Санкт-Петербург\n",
      "C  Петр       28           Казань\n"
     ]
    }
   ],
   "source": [
    "print(df)"
   ]
  },
  {
   "cell_type": "code",
   "execution_count": 7,
   "id": "b02508f0-b691-4686-967b-69c069a46482",
   "metadata": {},
   "outputs": [
    {
     "data": {
      "text/plain": [
       "'Санкт-Петербург'"
      ]
     },
     "execution_count": 7,
     "metadata": {},
     "output_type": "execute_result"
    }
   ],
   "source": [
    "df.loc['B', 'Город']  # Вывод: 'Санкт-Петербург'"
   ]
  },
  {
   "cell_type": "code",
   "execution_count": 8,
   "id": "566c27c5-974a-42fc-a739-ed007002ec55",
   "metadata": {},
   "outputs": [
    {
     "data": {
      "text/plain": [
       "Имя          Анна\n",
       "Возраст        25\n",
       "Город      Москва\n",
       "Name: A, dtype: object"
      ]
     },
     "execution_count": 8,
     "metadata": {},
     "output_type": "execute_result"
    }
   ],
   "source": [
    "df.loc['A']  # Вывод: данные строки 'A'"
   ]
  },
  {
   "cell_type": "code",
   "execution_count": 9,
   "id": "5c07a571-70b2-48ed-84ba-de5bb3ec8cbc",
   "metadata": {},
   "outputs": [
    {
     "data": {
      "text/plain": [
       "A    25\n",
       "B    30\n",
       "C    28\n",
       "Name: Возраст, dtype: int64"
      ]
     },
     "execution_count": 9,
     "metadata": {},
     "output_type": "execute_result"
    }
   ],
   "source": [
    "df.loc[:, 'Возраст']  # Вывод: данные столбца 'Возраст'"
   ]
  },
  {
   "cell_type": "code",
   "execution_count": 10,
   "id": "33a40896-b63f-4b54-a601-08cb445df998",
   "metadata": {},
   "outputs": [
    {
     "data": {
      "text/html": [
       "<div>\n",
       "<style scoped>\n",
       "    .dataframe tbody tr th:only-of-type {\n",
       "        vertical-align: middle;\n",
       "    }\n",
       "\n",
       "    .dataframe tbody tr th {\n",
       "        vertical-align: top;\n",
       "    }\n",
       "\n",
       "    .dataframe thead th {\n",
       "        text-align: right;\n",
       "    }\n",
       "</style>\n",
       "<table border=\"1\" class=\"dataframe\">\n",
       "  <thead>\n",
       "    <tr style=\"text-align: right;\">\n",
       "      <th></th>\n",
       "      <th>Возраст</th>\n",
       "      <th>Город</th>\n",
       "    </tr>\n",
       "  </thead>\n",
       "  <tbody>\n",
       "    <tr>\n",
       "      <th>B</th>\n",
       "      <td>30</td>\n",
       "      <td>Санкт-Петербург</td>\n",
       "    </tr>\n",
       "    <tr>\n",
       "      <th>C</th>\n",
       "      <td>28</td>\n",
       "      <td>Казань</td>\n",
       "    </tr>\n",
       "  </tbody>\n",
       "</table>\n",
       "</div>"
      ],
      "text/plain": [
       "   Возраст            Город\n",
       "B       30  Санкт-Петербург\n",
       "C       28           Казань"
      ]
     },
     "execution_count": 10,
     "metadata": {},
     "output_type": "execute_result"
    }
   ],
   "source": [
    "df.loc['B':'C', 'Возраст':'Город']  # Вывод: срез данных"
   ]
  },
  {
   "cell_type": "code",
   "execution_count": 11,
   "id": "89c74ebe-f5b7-42e1-a0d8-d7e8533581c6",
   "metadata": {},
   "outputs": [
    {
     "data": {
      "text/html": [
       "<div>\n",
       "<style scoped>\n",
       "    .dataframe tbody tr th:only-of-type {\n",
       "        vertical-align: middle;\n",
       "    }\n",
       "\n",
       "    .dataframe tbody tr th {\n",
       "        vertical-align: top;\n",
       "    }\n",
       "\n",
       "    .dataframe thead th {\n",
       "        text-align: right;\n",
       "    }\n",
       "</style>\n",
       "<table border=\"1\" class=\"dataframe\">\n",
       "  <thead>\n",
       "    <tr style=\"text-align: right;\">\n",
       "      <th></th>\n",
       "      <th>Имя</th>\n",
       "      <th>Город</th>\n",
       "    </tr>\n",
       "  </thead>\n",
       "  <tbody>\n",
       "    <tr>\n",
       "      <th>A</th>\n",
       "      <td>Анна</td>\n",
       "      <td>Москва</td>\n",
       "    </tr>\n",
       "    <tr>\n",
       "      <th>C</th>\n",
       "      <td>Петр</td>\n",
       "      <td>Казань</td>\n",
       "    </tr>\n",
       "  </tbody>\n",
       "</table>\n",
       "</div>"
      ],
      "text/plain": [
       "    Имя   Город\n",
       "A  Анна  Москва\n",
       "C  Петр  Казань"
      ]
     },
     "execution_count": 11,
     "metadata": {},
     "output_type": "execute_result"
    }
   ],
   "source": [
    "df.loc[['A', 'C'], ['Имя', 'Город']]  # Вывод: выбранные строки и столбцы"
   ]
  },
  {
   "cell_type": "code",
   "execution_count": 12,
   "id": "ccc7918d-af09-4d7d-a866-ea61d8bde377",
   "metadata": {},
   "outputs": [
    {
     "name": "stdout",
     "output_type": "stream",
     "text": [
      "    Имя  Возраст            Город\n",
      "A  Анна       25           Москва\n",
      "B  Иван       30  Санкт-Петербург\n",
      "C  Петр       28           Казань\n"
     ]
    }
   ],
   "source": [
    "print(df)"
   ]
  },
  {
   "cell_type": "code",
   "execution_count": 13,
   "id": "e489215f-52f3-4ccb-a4f8-523ab54289a9",
   "metadata": {},
   "outputs": [
    {
     "data": {
      "text/plain": [
       "'Санкт-Петербург'"
      ]
     },
     "execution_count": 13,
     "metadata": {},
     "output_type": "execute_result"
    }
   ],
   "source": [
    "df.iloc[1, 2]  # Вывод: 'Санкт-Петербург'"
   ]
  },
  {
   "cell_type": "code",
   "execution_count": 14,
   "id": "d6b4d0a7-5f99-43a3-aa8f-e47b6a629533",
   "metadata": {},
   "outputs": [
    {
     "data": {
      "text/plain": [
       "Имя          Анна\n",
       "Возраст        25\n",
       "Город      Москва\n",
       "Name: A, dtype: object"
      ]
     },
     "execution_count": 14,
     "metadata": {},
     "output_type": "execute_result"
    }
   ],
   "source": [
    "df.iloc[0]  # Вывод: данные первой строки"
   ]
  },
  {
   "cell_type": "code",
   "execution_count": 16,
   "id": "da05e129-c970-4403-b122-e859ef08d91b",
   "metadata": {},
   "outputs": [
    {
     "data": {
      "text/plain": [
       "A    25\n",
       "B    30\n",
       "C    28\n",
       "Name: Возраст, dtype: int64"
      ]
     },
     "execution_count": 16,
     "metadata": {},
     "output_type": "execute_result"
    }
   ],
   "source": [
    "df.iloc[:, 1]  # Вывод: данные второго столбца"
   ]
  },
  {
   "cell_type": "code",
   "execution_count": 17,
   "id": "36e416a3-f6d3-4c4c-8209-f29c1c8ef7ab",
   "metadata": {},
   "outputs": [
    {
     "data": {
      "text/html": [
       "<div>\n",
       "<style scoped>\n",
       "    .dataframe tbody tr th:only-of-type {\n",
       "        vertical-align: middle;\n",
       "    }\n",
       "\n",
       "    .dataframe tbody tr th {\n",
       "        vertical-align: top;\n",
       "    }\n",
       "\n",
       "    .dataframe thead th {\n",
       "        text-align: right;\n",
       "    }\n",
       "</style>\n",
       "<table border=\"1\" class=\"dataframe\">\n",
       "  <thead>\n",
       "    <tr style=\"text-align: right;\">\n",
       "      <th></th>\n",
       "      <th>Имя</th>\n",
       "      <th>Возраст</th>\n",
       "    </tr>\n",
       "  </thead>\n",
       "  <tbody>\n",
       "    <tr>\n",
       "      <th>B</th>\n",
       "      <td>Иван</td>\n",
       "      <td>30</td>\n",
       "    </tr>\n",
       "    <tr>\n",
       "      <th>C</th>\n",
       "      <td>Петр</td>\n",
       "      <td>28</td>\n",
       "    </tr>\n",
       "  </tbody>\n",
       "</table>\n",
       "</div>"
      ],
      "text/plain": [
       "    Имя  Возраст\n",
       "B  Иван       30\n",
       "C  Петр       28"
      ]
     },
     "execution_count": 17,
     "metadata": {},
     "output_type": "execute_result"
    }
   ],
   "source": [
    "df.iloc[1:3, 0:2]  # Вывод: выбраннй срез"
   ]
  },
  {
   "cell_type": "code",
   "execution_count": 19,
   "id": "8b56f540-66be-4ec3-b1d8-d5b77249ea2b",
   "metadata": {},
   "outputs": [
    {
     "data": {
      "text/html": [
       "<div>\n",
       "<style scoped>\n",
       "    .dataframe tbody tr th:only-of-type {\n",
       "        vertical-align: middle;\n",
       "    }\n",
       "\n",
       "    .dataframe tbody tr th {\n",
       "        vertical-align: top;\n",
       "    }\n",
       "\n",
       "    .dataframe thead th {\n",
       "        text-align: right;\n",
       "    }\n",
       "</style>\n",
       "<table border=\"1\" class=\"dataframe\">\n",
       "  <thead>\n",
       "    <tr style=\"text-align: right;\">\n",
       "      <th></th>\n",
       "      <th>Имя</th>\n",
       "      <th>Город</th>\n",
       "    </tr>\n",
       "  </thead>\n",
       "  <tbody>\n",
       "    <tr>\n",
       "      <th>A</th>\n",
       "      <td>Анна</td>\n",
       "      <td>Москва</td>\n",
       "    </tr>\n",
       "    <tr>\n",
       "      <th>C</th>\n",
       "      <td>Петр</td>\n",
       "      <td>Казань</td>\n",
       "    </tr>\n",
       "  </tbody>\n",
       "</table>\n",
       "</div>"
      ],
      "text/plain": [
       "    Имя   Город\n",
       "A  Анна  Москва\n",
       "C  Петр  Казань"
      ]
     },
     "execution_count": 19,
     "metadata": {},
     "output_type": "execute_result"
    }
   ],
   "source": [
    "df.iloc[[0, 2], [0, 2]]  # Вывод: выбранные строки и столбцы"
   ]
  },
  {
   "cell_type": "code",
   "execution_count": 1,
   "id": "8b646f34-a83b-40cc-ab22-ec1334b48d8e",
   "metadata": {},
   "outputs": [],
   "source": [
    "import pandas as pd\n",
    "\n",
    "data = {'name': ['Alice', 'Bob', 'Charlie', 'David', 'Eve'], \n",
    "        'age': [25, 30, 22, 35, 28], \n",
    "        'city': ['New York', 'London', 'Paris', 'London', 'Paris']}\n",
    "df = pd.DataFrame(data)"
   ]
  },
  {
   "cell_type": "code",
   "execution_count": 2,
   "id": "28a52bf8-c531-490b-84df-dc6e25860ef5",
   "metadata": {},
   "outputs": [
    {
     "name": "stdout",
     "output_type": "stream",
     "text": [
      "      name  age      city\n",
      "0    Alice   25  New York\n",
      "1      Bob   30    London\n",
      "2  Charlie   22     Paris\n",
      "3    David   35    London\n",
      "4      Eve   28     Paris\n"
     ]
    }
   ],
   "source": [
    "print(df)"
   ]
  },
  {
   "cell_type": "code",
   "execution_count": 3,
   "id": "b1114313-a408-4680-9d6b-94895a714ca9",
   "metadata": {},
   "outputs": [
    {
     "data": {
      "text/html": [
       "<div>\n",
       "<style scoped>\n",
       "    .dataframe tbody tr th:only-of-type {\n",
       "        vertical-align: middle;\n",
       "    }\n",
       "\n",
       "    .dataframe tbody tr th {\n",
       "        vertical-align: top;\n",
       "    }\n",
       "\n",
       "    .dataframe thead th {\n",
       "        text-align: right;\n",
       "    }\n",
       "</style>\n",
       "<table border=\"1\" class=\"dataframe\">\n",
       "  <thead>\n",
       "    <tr style=\"text-align: right;\">\n",
       "      <th></th>\n",
       "      <th>name</th>\n",
       "      <th>age</th>\n",
       "      <th>city</th>\n",
       "    </tr>\n",
       "  </thead>\n",
       "  <tbody>\n",
       "    <tr>\n",
       "      <th>1</th>\n",
       "      <td>Bob</td>\n",
       "      <td>30</td>\n",
       "      <td>London</td>\n",
       "    </tr>\n",
       "    <tr>\n",
       "      <th>3</th>\n",
       "      <td>David</td>\n",
       "      <td>35</td>\n",
       "      <td>London</td>\n",
       "    </tr>\n",
       "    <tr>\n",
       "      <th>4</th>\n",
       "      <td>Eve</td>\n",
       "      <td>28</td>\n",
       "      <td>Paris</td>\n",
       "    </tr>\n",
       "  </tbody>\n",
       "</table>\n",
       "</div>"
      ],
      "text/plain": [
       "    name  age    city\n",
       "1    Bob   30  London\n",
       "3  David   35  London\n",
       "4    Eve   28   Paris"
      ]
     },
     "execution_count": 3,
     "metadata": {},
     "output_type": "execute_result"
    }
   ],
   "source": [
    "# Выбрать строки, где возраст больше 25\n",
    "df[df['age'] > 25]"
   ]
  },
  {
   "cell_type": "code",
   "execution_count": 4,
   "id": "8ee67022-341e-4571-939e-8c6cb5037ab7",
   "metadata": {},
   "outputs": [
    {
     "data": {
      "text/html": [
       "<div>\n",
       "<style scoped>\n",
       "    .dataframe tbody tr th:only-of-type {\n",
       "        vertical-align: middle;\n",
       "    }\n",
       "\n",
       "    .dataframe tbody tr th {\n",
       "        vertical-align: top;\n",
       "    }\n",
       "\n",
       "    .dataframe thead th {\n",
       "        text-align: right;\n",
       "    }\n",
       "</style>\n",
       "<table border=\"1\" class=\"dataframe\">\n",
       "  <thead>\n",
       "    <tr style=\"text-align: right;\">\n",
       "      <th></th>\n",
       "      <th>name</th>\n",
       "      <th>age</th>\n",
       "      <th>city</th>\n",
       "    </tr>\n",
       "  </thead>\n",
       "  <tbody>\n",
       "    <tr>\n",
       "      <th>4</th>\n",
       "      <td>Eve</td>\n",
       "      <td>28</td>\n",
       "      <td>Paris</td>\n",
       "    </tr>\n",
       "  </tbody>\n",
       "</table>\n",
       "</div>"
      ],
      "text/plain": [
       "  name  age   city\n",
       "4  Eve   28  Paris"
      ]
     },
     "execution_count": 4,
     "metadata": {},
     "output_type": "execute_result"
    }
   ],
   "source": [
    "# Выбрать строки, где город - Paris и возраст больше 25\n",
    "df.query('city == \"Paris\" and age > 25')"
   ]
  },
  {
   "cell_type": "code",
   "execution_count": 5,
   "id": "167b4629-8e56-4eee-baf4-0b47dabacadd",
   "metadata": {},
   "outputs": [
    {
     "data": {
      "text/html": [
       "<div>\n",
       "<style scoped>\n",
       "    .dataframe tbody tr th:only-of-type {\n",
       "        vertical-align: middle;\n",
       "    }\n",
       "\n",
       "    .dataframe tbody tr th {\n",
       "        vertical-align: top;\n",
       "    }\n",
       "\n",
       "    .dataframe thead th {\n",
       "        text-align: right;\n",
       "    }\n",
       "</style>\n",
       "<table border=\"1\" class=\"dataframe\">\n",
       "  <thead>\n",
       "    <tr style=\"text-align: right;\">\n",
       "      <th></th>\n",
       "      <th>name</th>\n",
       "      <th>age</th>\n",
       "      <th>city</th>\n",
       "    </tr>\n",
       "  </thead>\n",
       "  <tbody>\n",
       "    <tr>\n",
       "      <th>1</th>\n",
       "      <td>Bob</td>\n",
       "      <td>30</td>\n",
       "      <td>London</td>\n",
       "    </tr>\n",
       "    <tr>\n",
       "      <th>2</th>\n",
       "      <td>Charlie</td>\n",
       "      <td>22</td>\n",
       "      <td>Paris</td>\n",
       "    </tr>\n",
       "    <tr>\n",
       "      <th>3</th>\n",
       "      <td>David</td>\n",
       "      <td>35</td>\n",
       "      <td>London</td>\n",
       "    </tr>\n",
       "    <tr>\n",
       "      <th>4</th>\n",
       "      <td>Eve</td>\n",
       "      <td>28</td>\n",
       "      <td>Paris</td>\n",
       "    </tr>\n",
       "  </tbody>\n",
       "</table>\n",
       "</div>"
      ],
      "text/plain": [
       "      name  age    city\n",
       "1      Bob   30  London\n",
       "2  Charlie   22   Paris\n",
       "3    David   35  London\n",
       "4      Eve   28   Paris"
      ]
     },
     "execution_count": 5,
     "metadata": {},
     "output_type": "execute_result"
    }
   ],
   "source": [
    "# Выбрать строки, где город - Paris или London\n",
    "cities = ['Paris', 'London']\n",
    "df[df['city'].isin(cities)]"
   ]
  },
  {
   "cell_type": "code",
   "execution_count": 8,
   "id": "860b7b06-b75e-4da0-8249-4ac306c047ae",
   "metadata": {},
   "outputs": [
    {
     "name": "stdout",
     "output_type": "stream",
     "text": [
      "      name  age      city\n",
      "0    Alice   25  New York\n",
      "1      Bob   30    London\n",
      "2  Charlie   22     Paris\n",
      "3    David   35    London\n",
      "4      Eve   28     Paris\n"
     ]
    }
   ],
   "source": [
    "print(df)"
   ]
  },
  {
   "cell_type": "code",
   "execution_count": 6,
   "id": "da84c49e-a122-4a9f-a49c-5ceb479277c7",
   "metadata": {},
   "outputs": [
    {
     "name": "stdout",
     "output_type": "stream",
     "text": [
      "      name  age      city\n",
      "2  Charlie   22     Paris\n",
      "0    Alice   25  New York\n",
      "4      Eve   28     Paris\n",
      "1      Bob   30    London\n",
      "3    David   35    London\n"
     ]
    }
   ],
   "source": [
    "# Сортировка по возрасту по возрастанию (по умолчанию)\n",
    "print(df.sort_values(by='age'))"
   ]
  },
  {
   "cell_type": "code",
   "execution_count": 7,
   "id": "19e84698-489f-47b1-9fd1-403af4ca3ffc",
   "metadata": {},
   "outputs": [
    {
     "name": "stdout",
     "output_type": "stream",
     "text": [
      "      name  age      city\n",
      "2  Charlie   22     Paris\n",
      "4      Eve   28     Paris\n",
      "0    Alice   25  New York\n",
      "1      Bob   30    London\n",
      "3    David   35    London\n"
     ]
    }
   ],
   "source": [
    "# Сортировка по городу по убыванию, затем по возрасту по возрастанию\n",
    "print(df.sort_values(by=['city', 'age'], ascending=[False, True]))"
   ]
  },
  {
   "cell_type": "code",
   "execution_count": 9,
   "id": "9fc4f762-8ee1-43c6-9a97-e392ab93c7bd",
   "metadata": {},
   "outputs": [
    {
     "name": "stdout",
     "output_type": "stream",
     "text": [
      "      name  age      city\n",
      "0    Alice   25  New York\n",
      "1      Bob   30    London\n",
      "2  Charlie   22     Paris\n",
      "3    David   35    London\n",
      "4      Eve   28     Paris\n"
     ]
    }
   ],
   "source": [
    "print(df)"
   ]
  },
  {
   "cell_type": "code",
   "execution_count": 10,
   "id": "21867af4-9d3f-464b-988e-46f041a8cc8b",
   "metadata": {},
   "outputs": [
    {
     "name": "stdout",
     "output_type": "stream",
     "text": [
      "    name  age    city\n",
      "3  David   35  London\n",
      "1    Bob   30  London\n"
     ]
    }
   ],
   "source": [
    "# Выбрать строки, где город - London, отсортировать по возрасту по убыванию\n",
    "print(df[df['city'] == 'London'].sort_values(by='age', ascending=False))"
   ]
  },
  {
   "cell_type": "code",
   "execution_count": null,
   "id": "ec8f3c29-c477-4805-a88a-b914bd7a95e1",
   "metadata": {},
   "outputs": [],
   "source": []
  }
 ],
 "metadata": {
  "kernelspec": {
   "display_name": "Python 3 (ipykernel)",
   "language": "python",
   "name": "python3"
  },
  "language_info": {
   "codemirror_mode": {
    "name": "ipython",
    "version": 3
   },
   "file_extension": ".py",
   "mimetype": "text/x-python",
   "name": "python",
   "nbconvert_exporter": "python",
   "pygments_lexer": "ipython3",
   "version": "3.8.7"
  }
 },
 "nbformat": 4,
 "nbformat_minor": 5
}
