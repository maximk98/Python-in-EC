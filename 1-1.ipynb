{
 "cells": [
  {
   "cell_type": "code",
   "execution_count": 4,
   "id": "bfde9ad9-5567-43fa-a33b-95a4888a83a0",
   "metadata": {
    "editable": true,
    "slideshow": {
     "slide_type": ""
    },
    "tags": []
   },
   "outputs": [],
   "source": [
    "import pandas as pd\n",
    "data = [1, 3, 5, 7, 8]\n",
    "s1 = pd.Series(data)\n",
    "s2 = pd.Series([10, 20, 30, 40, 50], index=['a', 'b', 'c', 'd', 'e'])"
   ]
  },
  {
   "cell_type": "code",
   "execution_count": 5,
   "id": "ba871930-0b1e-4436-af11-0ac8ca578838",
   "metadata": {},
   "outputs": [
    {
     "name": "stdout",
     "output_type": "stream",
     "text": [
      "0    1\n",
      "1    3\n",
      "2    5\n",
      "3    7\n",
      "4    8\n",
      "dtype: int64\n"
     ]
    }
   ],
   "source": [
    "print(s1)"
   ]
  },
  {
   "cell_type": "code",
   "execution_count": 8,
   "id": "b2e3c34b-0334-40b3-bb6d-c34eb212e5aa",
   "metadata": {},
   "outputs": [
    {
     "name": "stdout",
     "output_type": "stream",
     "text": [
      "10\n"
     ]
    }
   ],
   "source": [
    "print(s2[0])"
   ]
  },
  {
   "cell_type": "code",
   "execution_count": 9,
   "id": "0da0672a-7e1a-4853-b73b-6ab2136f647d",
   "metadata": {},
   "outputs": [
    {
     "name": "stdout",
     "output_type": "stream",
     "text": [
      "20\n"
     ]
    }
   ],
   "source": [
    "print(s2['b'])"
   ]
  },
  {
   "cell_type": "code",
   "execution_count": 10,
   "id": "6168f8ca-6ec9-4476-b740-b5554092f8c0",
   "metadata": {},
   "outputs": [
    {
     "name": "stdout",
     "output_type": "stream",
     "text": [
      "b    20\n",
      "c    30\n",
      "dtype: int64\n"
     ]
    }
   ],
   "source": [
    "print(s2[1:3])"
   ]
  },
  {
   "cell_type": "code",
   "execution_count": 11,
   "id": "abfe1b62-72d5-42b5-aab7-3c56bda0ba50",
   "metadata": {},
   "outputs": [
    {
     "name": "stdout",
     "output_type": "stream",
     "text": [
      "b    20\n",
      "c    30\n",
      "d    40\n",
      "dtype: int64\n"
     ]
    }
   ],
   "source": [
    "print(s2['b':'d'])"
   ]
  },
  {
   "cell_type": "code",
   "execution_count": 13,
   "id": "6f6c714e-13dc-421a-bda2-483c15b00e11",
   "metadata": {},
   "outputs": [
    {
     "name": "stdout",
     "output_type": "stream",
     "text": [
      "China        1444\n",
      "India        1380\n",
      "USA           331\n",
      "Indonesia     273\n",
      "dtype: int64\n"
     ]
    }
   ],
   "source": [
    "population = pd.Series({'China': 1444, 'India': 1380, 'USA': 331, 'Indonesia': 273})\n",
    "print(population)"
   ]
  },
  {
   "cell_type": "code",
   "execution_count": 14,
   "id": "cccb5e81-9e6e-40cb-8da5-ef62614c65fb",
   "metadata": {},
   "outputs": [
    {
     "name": "stdout",
     "output_type": "stream",
     "text": [
      "China    1444\n",
      "India    1380\n",
      "dtype: int64\n"
     ]
    }
   ],
   "source": [
    "print(population[population > 500])"
   ]
  },
  {
   "cell_type": "code",
   "execution_count": null,
   "id": "583afd86-7eae-44ea-a1c8-33e22bdf5d6f",
   "metadata": {},
   "outputs": [],
   "source": []
  }
 ],
 "metadata": {
  "kernelspec": {
   "display_name": "Python 3 (ipykernel)",
   "language": "python",
   "name": "python3"
  },
  "language_info": {
   "codemirror_mode": {
    "name": "ipython",
    "version": 3
   },
   "file_extension": ".py",
   "mimetype": "text/x-python",
   "name": "python",
   "nbconvert_exporter": "python",
   "pygments_lexer": "ipython3",
   "version": "3.8.7"
  }
 },
 "nbformat": 4,
 "nbformat_minor": 5
}
