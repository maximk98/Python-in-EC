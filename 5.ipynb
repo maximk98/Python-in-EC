{
 "cells": [
  {
   "cell_type": "code",
   "execution_count": 13,
   "id": "34ea55c3-5e80-4278-bad9-51dd8343c4cf",
   "metadata": {},
   "outputs": [],
   "source": [
    "import pandas as pd\n",
    "\n",
    "# Создание датафреймов\n",
    "df1 = pd.DataFrame({'A': ['A0', 'A1', 'A2'], 'B': ['B0', 'B1', 'B2']})\n",
    "df2 = pd.DataFrame({'A': ['A3', 'A4', 'A5'], 'B': ['B3', 'B4', 'B5']})"
   ]
  },
  {
   "cell_type": "code",
   "execution_count": 14,
   "id": "dfae9477-6a41-4b1c-a7a4-9abbf9f3daf7",
   "metadata": {},
   "outputs": [
    {
     "name": "stdout",
     "output_type": "stream",
     "text": [
      "    A   B\n",
      "0  A0  B0\n",
      "1  A1  B1\n",
      "2  A2  B2\n"
     ]
    }
   ],
   "source": [
    "print(df1)"
   ]
  },
  {
   "cell_type": "code",
   "execution_count": 15,
   "id": "f3b4cc32-c9cc-40b2-abbc-50352a9abd72",
   "metadata": {},
   "outputs": [
    {
     "name": "stdout",
     "output_type": "stream",
     "text": [
      "    A   B\n",
      "0  A3  B3\n",
      "1  A4  B4\n",
      "2  A5  B5\n"
     ]
    }
   ],
   "source": [
    "print(df2)"
   ]
  },
  {
   "cell_type": "code",
   "execution_count": 16,
   "id": "85914e57-cebb-48f8-8937-67f658446411",
   "metadata": {},
   "outputs": [
    {
     "name": "stdout",
     "output_type": "stream",
     "text": [
      "    A   B\n",
      "0  A0  B0\n",
      "1  A1  B1\n",
      "2  A2  B2\n",
      "0  A3  B3\n",
      "1  A4  B4\n",
      "2  A5  B5\n"
     ]
    }
   ],
   "source": [
    "# Объединение по строкам (по умолчанию)\n",
    "print(pd.concat([df1, df2]))"
   ]
  },
  {
   "cell_type": "code",
   "execution_count": 18,
   "id": "11dc1f5a-224e-44cc-842f-f6c4bd21ef17",
   "metadata": {},
   "outputs": [
    {
     "name": "stdout",
     "output_type": "stream",
     "text": [
      "    A   B   A   B\n",
      "0  A0  B0  A3  B3\n",
      "1  A1  B1  A4  B4\n",
      "2  A2  B2  A5  B5\n"
     ]
    }
   ],
   "source": [
    "print(pd.concat([df1, df2], axis=1))"
   ]
  },
  {
   "cell_type": "code",
   "execution_count": 20,
   "id": "b0c504ad-8873-48d3-8034-8e82281a4767",
   "metadata": {},
   "outputs": [],
   "source": [
    "# Создание датафреймов с общим столбцом 'key'\n",
    "df3 = pd.DataFrame({'key': ['K0', 'K1', 'K2'], 'C': ['C0', 'C1', 'C2']})\n",
    "df4 = pd.DataFrame({'key': ['K0', 'K2', 'K3'], 'D': ['D0', 'D1', 'D2']})"
   ]
  },
  {
   "cell_type": "code",
   "execution_count": 21,
   "id": "8b8dc036-071b-475e-9fcc-2096c1e5e84e",
   "metadata": {},
   "outputs": [
    {
     "name": "stdout",
     "output_type": "stream",
     "text": [
      "  key   C\n",
      "0  K0  C0\n",
      "1  K1  C1\n",
      "2  K2  C2\n"
     ]
    }
   ],
   "source": [
    "print(df3)"
   ]
  },
  {
   "cell_type": "code",
   "execution_count": 22,
   "id": "631caae6-6216-4a23-88c3-a7f625ac8340",
   "metadata": {},
   "outputs": [
    {
     "name": "stdout",
     "output_type": "stream",
     "text": [
      "  key   D\n",
      "0  K0  D0\n",
      "1  K2  D1\n",
      "2  K3  D2\n"
     ]
    }
   ],
   "source": [
    "print(df4)"
   ]
  },
  {
   "cell_type": "code",
   "execution_count": 23,
   "id": "30b89531-b902-4ae4-ac4f-f0ea3ee49746",
   "metadata": {},
   "outputs": [
    {
     "name": "stdout",
     "output_type": "stream",
     "text": [
      "  key   C   D\n",
      "0  K0  C0  D0\n",
      "1  K2  C2  D1\n"
     ]
    }
   ],
   "source": [
    "# Inner merge\n",
    "print(pd.merge(df3, df4, on='key'))"
   ]
  },
  {
   "cell_type": "code",
   "execution_count": 24,
   "id": "d1893132-4504-445d-b38a-e87a20a7c558",
   "metadata": {},
   "outputs": [
    {
     "name": "stdout",
     "output_type": "stream",
     "text": [
      "  key    C    D\n",
      "0  K0   C0   D0\n",
      "1  K1   C1  NaN\n",
      "2  K2   C2   D1\n",
      "3  K3  NaN   D2\n"
     ]
    }
   ],
   "source": [
    "# Outer merge\n",
    "print(pd.merge(df3, df4, on='key', how = 'outer'))"
   ]
  },
  {
   "cell_type": "code",
   "execution_count": 25,
   "id": "4dc9bd0f-3ec5-491c-9452-bab501974bf6",
   "metadata": {},
   "outputs": [
    {
     "name": "stdout",
     "output_type": "stream",
     "text": [
      "  key   C\n",
      "0  K0  C0\n",
      "1  K1  C1\n",
      "2  K2  C2\n"
     ]
    }
   ],
   "source": [
    "print(df3)"
   ]
  },
  {
   "cell_type": "code",
   "execution_count": 26,
   "id": "931f8214-99a0-4cba-9bac-e13e83a175aa",
   "metadata": {},
   "outputs": [
    {
     "name": "stdout",
     "output_type": "stream",
     "text": [
      "  key   D\n",
      "0  K0  D0\n",
      "1  K2  D1\n",
      "2  K3  D2\n"
     ]
    }
   ],
   "source": [
    "print(df4)"
   ]
  },
  {
   "cell_type": "code",
   "execution_count": 29,
   "id": "3c5848bf-f6f3-4426-a09c-4b4e6176fcbd",
   "metadata": {},
   "outputs": [
    {
     "name": "stdout",
     "output_type": "stream",
     "text": [
      "  key   C    D\n",
      "0  K0  C0   D0\n",
      "1  K1  C1  NaN\n",
      "2  K2  C2   D1\n"
     ]
    }
   ],
   "source": [
    "# Left merge\n",
    "print(pd.merge(df3, df4, on='key', how='left'))"
   ]
  },
  {
   "cell_type": "code",
   "execution_count": 30,
   "id": "f2099bef-ff1a-4ca0-b49c-e6a661ffedf5",
   "metadata": {},
   "outputs": [
    {
     "name": "stdout",
     "output_type": "stream",
     "text": [
      "  key    C   D\n",
      "0  K0   C0  D0\n",
      "1  K2   C2  D1\n",
      "2  K3  NaN  D2\n"
     ]
    }
   ],
   "source": [
    "# Right merge\n",
    "print(pd.merge(df3, df4, on='key', how='right'))"
   ]
  },
  {
   "cell_type": "code",
   "execution_count": 31,
   "id": "624997a9-222c-4d69-9a6c-0f53fcced170",
   "metadata": {},
   "outputs": [],
   "source": [
    "df5 = pd.DataFrame({'key': ['A', 'B', 'C'], 'value': [1, 2, 3]})\n",
    "df6 = pd.DataFrame({'key': ['B', 'C', 'D'], 'value': [4, 5, 6]})"
   ]
  },
  {
   "cell_type": "code",
   "execution_count": 32,
   "id": "b7a61953-579a-43f8-af74-e8a3bedc521a",
   "metadata": {},
   "outputs": [
    {
     "name": "stdout",
     "output_type": "stream",
     "text": [
      "  key  value\n",
      "0   A      1\n",
      "1   B      2\n",
      "2   C      3\n"
     ]
    }
   ],
   "source": [
    "print(df5)"
   ]
  },
  {
   "cell_type": "code",
   "execution_count": 33,
   "id": "f5c0e1d0-338c-481b-bbd7-72fa01c9d3d4",
   "metadata": {},
   "outputs": [
    {
     "name": "stdout",
     "output_type": "stream",
     "text": [
      "  key  value\n",
      "0   B      4\n",
      "1   C      5\n",
      "2   D      6\n"
     ]
    }
   ],
   "source": [
    "print(df6)"
   ]
  },
  {
   "cell_type": "code",
   "execution_count": 35,
   "id": "779c041c-b7e9-4dd1-9e98-2f09151d3733",
   "metadata": {},
   "outputs": [
    {
     "name": "stdout",
     "output_type": "stream",
     "text": [
      "  key  value_x  value_y\n",
      "0   B        2        4\n",
      "1   C        3        5\n"
     ]
    }
   ],
   "source": [
    "print(pd.merge(df5, df6, on='key'))"
   ]
  },
  {
   "cell_type": "code",
   "execution_count": 37,
   "id": "be14f468-a779-4135-aef3-854776826d2e",
   "metadata": {},
   "outputs": [
    {
     "name": "stdout",
     "output_type": "stream",
     "text": [
      "  key  value_left  value_right\n",
      "0   B           2            4\n",
      "1   C           3            5\n"
     ]
    }
   ],
   "source": [
    "print(pd.merge(df5, df6, on='key', suffixes=('_left', '_right')))"
   ]
  },
  {
   "cell_type": "code",
   "execution_count": null,
   "id": "8910c2a0-a91a-4b23-9f80-4ea1ff751147",
   "metadata": {},
   "outputs": [],
   "source": [
    "pd.concat([df1, df2], copy=False)"
   ]
  }
 ],
 "metadata": {
  "kernelspec": {
   "display_name": "Python 3 (ipykernel)",
   "language": "python",
   "name": "python3"
  },
  "language_info": {
   "codemirror_mode": {
    "name": "ipython",
    "version": 3
   },
   "file_extension": ".py",
   "mimetype": "text/x-python",
   "name": "python",
   "nbconvert_exporter": "python",
   "pygments_lexer": "ipython3",
   "version": "3.8.7"
  }
 },
 "nbformat": 4,
 "nbformat_minor": 5
}
