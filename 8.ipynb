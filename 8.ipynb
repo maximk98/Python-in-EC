{
 "cells": [
  {
   "cell_type": "code",
   "execution_count": 10,
   "id": "e0960b01-0852-4bc6-9e64-766e207ccad6",
   "metadata": {},
   "outputs": [],
   "source": [
    "import pandas as pd\n",
    "\n",
    "#midx = pd.MultiIndex(levels=None, codes=None, sortorder=None, names=None, copy=False, verify_integrity=True)"
   ]
  },
  {
   "cell_type": "code",
   "execution_count": 11,
   "id": "e1c30650-e107-4941-b06d-ca8076bd4ef2",
   "metadata": {},
   "outputs": [],
   "source": [
    "import pandas as pd\n",
    "\n",
    "# из массива массивов\n",
    "arrays = [\n",
    "    ['bar', 'bar', 'baz', 'baz', 'foo', 'foo'],\n",
    "    ['one', 'two', 'one', 'two', 'one', 'two']\n",
    "]\n",
    "\n",
    "index = pd.MultiIndex.from_arrays(arrays, names=('first', 'second'))"
   ]
  },
  {
   "cell_type": "code",
   "execution_count": 12,
   "id": "52ea1042-74d0-4893-9fc7-07556b5d44a2",
   "metadata": {},
   "outputs": [
    {
     "name": "stdout",
     "output_type": "stream",
     "text": [
      "MultiIndex([('bar', 'one'),\n",
      "            ('bar', 'two'),\n",
      "            ('baz', 'one'),\n",
      "            ('baz', 'two'),\n",
      "            ('foo', 'one'),\n",
      "            ('foo', 'two')],\n",
      "           names=['first', 'second'])\n"
     ]
    }
   ],
   "source": [
    "print(index)"
   ]
  },
  {
   "cell_type": "code",
   "execution_count": 13,
   "id": "ec2c8c14-651c-442f-ae69-37babf95a6ec",
   "metadata": {},
   "outputs": [],
   "source": [
    "# из списка кортежей\n",
    "tuples = [('bar', 'one'), ('bar', 'two'), ('baz', 'one'), ('baz', 'two'), ('foo', 'one'), ('foo', 'two')]\n",
    "\n",
    "index = pd.MultiIndex.from_tuples(tuples, names=('first', 'second'))"
   ]
  },
  {
   "cell_type": "code",
   "execution_count": 14,
   "id": "16a9a080-23b9-4db7-a7d1-fc45ffdbf7f4",
   "metadata": {},
   "outputs": [
    {
     "name": "stdout",
     "output_type": "stream",
     "text": [
      "MultiIndex([('bar', 'one'),\n",
      "            ('bar', 'two'),\n",
      "            ('baz', 'one'),\n",
      "            ('baz', 'two'),\n",
      "            ('foo', 'one'),\n",
      "            ('foo', 'two')],\n",
      "           names=['first', 'second'])\n"
     ]
    }
   ],
   "source": [
    "print(index)"
   ]
  },
  {
   "cell_type": "code",
   "execution_count": 17,
   "id": "78e7b8ea-b8a1-4bf5-926d-dda31ca8dfeb",
   "metadata": {},
   "outputs": [],
   "source": [
    "# cartesian product - декартово произведение\n",
    "index = pd.MultiIndex.from_product([['bar', 'baz', 'foo'], ['one', 'two']], names=['first', 'second'])"
   ]
  },
  {
   "cell_type": "code",
   "execution_count": 18,
   "id": "77a34db6-9126-48df-8413-9fa0298c001c",
   "metadata": {},
   "outputs": [
    {
     "name": "stdout",
     "output_type": "stream",
     "text": [
      "MultiIndex([('bar', 'one'),\n",
      "            ('bar', 'two'),\n",
      "            ('baz', 'one'),\n",
      "            ('baz', 'two'),\n",
      "            ('foo', 'one'),\n",
      "            ('foo', 'two')],\n",
      "           names=['first', 'second'])\n"
     ]
    }
   ],
   "source": [
    "print(index)"
   ]
  },
  {
   "cell_type": "code",
   "execution_count": 19,
   "id": "9e00be05-470d-4e62-98a9-708e4193f125",
   "metadata": {},
   "outputs": [],
   "source": [
    "data = pd.DataFrame({\n",
    "    'A': [1, 2, 3, 4, 5, 6],\n",
    "    'B': [7, 8, 9, 10, 11, 12]\n",
    "}, index=index)"
   ]
  },
  {
   "cell_type": "code",
   "execution_count": 20,
   "id": "3ffd7135-d95d-4348-8fc9-3ca34daec664",
   "metadata": {},
   "outputs": [
    {
     "name": "stdout",
     "output_type": "stream",
     "text": [
      "              A   B\n",
      "first second       \n",
      "bar   one     1   7\n",
      "      two     2   8\n",
      "baz   one     3   9\n",
      "      two     4  10\n",
      "foo   one     5  11\n",
      "      two     6  12\n"
     ]
    }
   ],
   "source": [
    "print(data)"
   ]
  },
  {
   "cell_type": "code",
   "execution_count": 21,
   "id": "93e27817-b3e6-4501-a634-daf611f1926a",
   "metadata": {},
   "outputs": [
    {
     "name": "stdout",
     "output_type": "stream",
     "text": [
      "        A  B\n",
      "second      \n",
      "one     1  7\n",
      "two     2  8\n"
     ]
    }
   ],
   "source": [
    "print(data.loc['bar'])"
   ]
  },
  {
   "cell_type": "code",
   "execution_count": 22,
   "id": "e4c18eb4-88aa-4250-a8be-ad93cafb4700",
   "metadata": {},
   "outputs": [
    {
     "name": "stdout",
     "output_type": "stream",
     "text": [
      "A    1\n",
      "B    7\n",
      "Name: (bar, one), dtype: int64\n"
     ]
    }
   ],
   "source": [
    "print(data.loc[('bar', 'one')])"
   ]
  },
  {
   "cell_type": "code",
   "execution_count": 23,
   "id": "a58b9442-6e20-4fdb-b89a-d28bd723c6ee",
   "metadata": {},
   "outputs": [
    {
     "name": "stdout",
     "output_type": "stream",
     "text": [
      "              A   B\n",
      "first second       \n",
      "bar   one     1   7\n",
      "      two     2   8\n",
      "baz   one     3   9\n",
      "      two     4  10\n"
     ]
    }
   ],
   "source": [
    "print(data.loc['bar':'baz'])"
   ]
  },
  {
   "cell_type": "code",
   "execution_count": 24,
   "id": "aa86995a-5b70-4fb9-8ef9-12326cc46c74",
   "metadata": {},
   "outputs": [],
   "source": [
    "data_reset = data.reset_index()"
   ]
  },
  {
   "cell_type": "code",
   "execution_count": 25,
   "id": "adb36642-3ce7-4572-9b26-a8741c278507",
   "metadata": {},
   "outputs": [
    {
     "name": "stdout",
     "output_type": "stream",
     "text": [
      "  first second  A   B\n",
      "0   bar    one  1   7\n",
      "1   bar    two  2   8\n",
      "2   baz    one  3   9\n",
      "3   baz    two  4  10\n",
      "4   foo    one  5  11\n",
      "5   foo    two  6  12\n"
     ]
    }
   ],
   "source": [
    "print(data_reset)"
   ]
  },
  {
   "cell_type": "code",
   "execution_count": 26,
   "id": "0a8912ee-0f69-425f-9ffe-143c9ff43664",
   "metadata": {},
   "outputs": [],
   "source": [
    "data_set = data_reset.set_index(['first', 'second'])"
   ]
  },
  {
   "cell_type": "code",
   "execution_count": 27,
   "id": "53b00fcd-b9d7-4c6c-a97a-86a00a398af8",
   "metadata": {},
   "outputs": [
    {
     "name": "stdout",
     "output_type": "stream",
     "text": [
      "              A   B\n",
      "first second       \n",
      "bar   one     1   7\n",
      "      two     2   8\n",
      "baz   one     3   9\n",
      "      two     4  10\n",
      "foo   one     5  11\n",
      "      two     6  12\n"
     ]
    }
   ],
   "source": [
    "print(data_set)"
   ]
  },
  {
   "cell_type": "code",
   "execution_count": 28,
   "id": "1d618df5-c9af-4419-a545-19ef751e4e89",
   "metadata": {},
   "outputs": [],
   "source": [
    "stacked = data.stack()"
   ]
  },
  {
   "cell_type": "code",
   "execution_count": 29,
   "id": "4b82bef5-4b7f-4efc-a03e-0c005c8f6c0c",
   "metadata": {},
   "outputs": [
    {
     "name": "stdout",
     "output_type": "stream",
     "text": [
      "first  second   \n",
      "bar    one     A     1\n",
      "               B     7\n",
      "       two     A     2\n",
      "               B     8\n",
      "baz    one     A     3\n",
      "               B     9\n",
      "       two     A     4\n",
      "               B    10\n",
      "foo    one     A     5\n",
      "               B    11\n",
      "       two     A     6\n",
      "               B    12\n",
      "dtype: int64\n"
     ]
    }
   ],
   "source": [
    "print(stacked)"
   ]
  },
  {
   "cell_type": "code",
   "execution_count": 30,
   "id": "2009e501-e726-4414-8f01-eb48a8458f4a",
   "metadata": {},
   "outputs": [],
   "source": [
    "unstacked = stacked.unstack()"
   ]
  },
  {
   "cell_type": "code",
   "execution_count": 31,
   "id": "008ad441-9587-4f2f-adc5-b3786c94523f",
   "metadata": {},
   "outputs": [
    {
     "name": "stdout",
     "output_type": "stream",
     "text": [
      "              A   B\n",
      "first second       \n",
      "bar   one     1   7\n",
      "      two     2   8\n",
      "baz   one     3   9\n",
      "      two     4  10\n",
      "foo   one     5  11\n",
      "      two     6  12\n"
     ]
    }
   ],
   "source": [
    "print(unstacked)"
   ]
  },
  {
   "cell_type": "code",
   "execution_count": 35,
   "id": "ae6725d7-ee01-4802-8d70-d404052e35a1",
   "metadata": {},
   "outputs": [],
   "source": [
    "data = pd.DataFrame({\n",
    "    'A': [1, 2, 3, 4, 5, 6, 1, 2, 3],\n",
    "    'B': [7, 8, 9, 10, 11, 12, 7, 8, 9]\n",
    "}, index=pd.MultiIndex.from_tuples(\n",
    "    [('bar', 'one'), ('bar', 'two'), ('baz', 'one'), \n",
    "     ('baz', 'two'), ('foo', 'one'), ('foo', 'two'),\n",
    "     ('bar', 'one'), ('bar', 'two'), ('baz', 'one')],\n",
    "    names=['first', 'second']\n",
    "))"
   ]
  },
  {
   "cell_type": "code",
   "execution_count": 36,
   "id": "2d4c722f-d195-402d-8241-e5ff1b1780ca",
   "metadata": {},
   "outputs": [
    {
     "name": "stdout",
     "output_type": "stream",
     "text": [
      "              A   B\n",
      "first second       \n",
      "bar   one     1   7\n",
      "      two     2   8\n",
      "baz   one     3   9\n",
      "      two     4  10\n",
      "foo   one     5  11\n",
      "      two     6  12\n",
      "bar   one     1   7\n",
      "      two     2   8\n",
      "baz   one     3   9\n"
     ]
    }
   ],
   "source": [
    "print(data)"
   ]
  },
  {
   "cell_type": "code",
   "execution_count": 37,
   "id": "24ec2428-19b1-451c-8031-499416636480",
   "metadata": {},
   "outputs": [],
   "source": [
    "grouped = data.groupby(level=['first', 'second']).sum()"
   ]
  },
  {
   "cell_type": "code",
   "execution_count": 38,
   "id": "1af0a947-c49e-44e8-ab86-f16427b215b7",
   "metadata": {},
   "outputs": [
    {
     "name": "stdout",
     "output_type": "stream",
     "text": [
      "              A   B\n",
      "first second       \n",
      "bar   one     2  14\n",
      "      two     4  16\n",
      "baz   one     6  18\n",
      "      two     4  10\n",
      "foo   one     5  11\n",
      "      two     6  12\n"
     ]
    }
   ],
   "source": [
    "print(grouped)"
   ]
  },
  {
   "cell_type": "code",
   "execution_count": 39,
   "id": "62e06154-800f-46fb-835c-0eae05537956",
   "metadata": {},
   "outputs": [],
   "source": [
    "index = pd.MultiIndex.from_tuples([\n",
    "    ('Region A', 'Agriculture', 2022), ('Region A', 'Agriculture', 2023),\n",
    "    ('Region A', 'Industry', 2022), ('Region A', 'Industry', 2023),\n",
    "    ('Region A', 'Services', 2022), ('Region A', 'Services', 2023),\n",
    "    ('Region B', 'Agriculture', 2022), ('Region B', 'Agriculture', 2023),\n",
    "    ('Region B', 'Industry', 2022), ('Region B', 'Industry', 2023),\n",
    "    ('Region B', 'Services', 2022), ('Region B', 'Services', 2023)\n",
    "], names=['Region', 'Sector', 'Year'])\n",
    "\n",
    "data = {\n",
    "    'GDP': [100, 105, 200, 210, 300, 320, 150, 160, 250, 260, 350, 370],\n",
    "    'Employment': [1000, 1020, 5000, 5050, 7000, 7100, 1200, 1250, 5200, 5300, 7200, 7350]\n",
    "}\n",
    "\n",
    "df = pd.DataFrame(data, index=index)"
   ]
  },
  {
   "cell_type": "code",
   "execution_count": 40,
   "id": "3e1bee9b-9b2a-42fa-a4c1-ac3f5390b84a",
   "metadata": {},
   "outputs": [
    {
     "name": "stdout",
     "output_type": "stream",
     "text": [
      "                           GDP  Employment\n",
      "Region   Sector      Year                 \n",
      "Region A Agriculture 2022  100        1000\n",
      "                     2023  105        1020\n",
      "         Industry    2022  200        5000\n",
      "                     2023  210        5050\n",
      "         Services    2022  300        7000\n",
      "                     2023  320        7100\n",
      "Region B Agriculture 2022  150        1200\n",
      "                     2023  160        1250\n",
      "         Industry    2022  250        5200\n",
      "                     2023  260        5300\n",
      "         Services    2022  350        7200\n",
      "                     2023  370        7350\n"
     ]
    }
   ],
   "source": [
    "print(df)"
   ]
  },
  {
   "cell_type": "code",
   "execution_count": 41,
   "id": "d04c4a6f-7012-45b6-9332-f0ce51eb133e",
   "metadata": {},
   "outputs": [
    {
     "name": "stdout",
     "output_type": "stream",
     "text": [
      "             GDP  Employment\n",
      "Sector                      \n",
      "Agriculture  105        1020\n",
      "Industry     210        5050\n",
      "Services     320        7100\n"
     ]
    }
   ],
   "source": [
    "region_a_2023 = df.loc[('Region A', slice(None), 2023)]\n",
    "print(region_a_2023)"
   ]
  },
  {
   "cell_type": "code",
   "execution_count": 42,
   "id": "45ffdab2-1d92-4f4b-ae02-e1dce7efe745",
   "metadata": {},
   "outputs": [
    {
     "name": "stdout",
     "output_type": "stream",
     "text": [
      "               GDP  Employment\n",
      "Region   Year                 \n",
      "Region A 2022  200        5000\n",
      "         2023  210        5050\n",
      "Region B 2022  250        5200\n",
      "         2023  260        5300\n"
     ]
    }
   ],
   "source": [
    "industry_data = df.loc[(slice(None), 'Industry', slice(None))]\n",
    "print(industry_data)"
   ]
  },
  {
   "cell_type": "code",
   "execution_count": 43,
   "id": "cf0e07dd-e65e-48e7-95e7-c4af78e5fac5",
   "metadata": {},
   "outputs": [
    {
     "name": "stdout",
     "output_type": "stream",
     "text": [
      "Year\n",
      "2022    1350\n",
      "2023    1425\n",
      "Name: GDP, dtype: int64\n"
     ]
    }
   ],
   "source": [
    "gdp_by_year = df.groupby(level='Year').GDP.sum()\n",
    "print(gdp_by_year)"
   ]
  },
  {
   "cell_type": "code",
   "execution_count": 44,
   "id": "723f64ed-81f2-40e5-8586-b80c2bd82e22",
   "metadata": {},
   "outputs": [
    {
     "name": "stdout",
     "output_type": "stream",
     "text": [
      "                  GDP  Employment\n",
      "Sector      Year                 \n",
      "Agriculture 2022  100        1000\n",
      "            2023  105        1020\n",
      "Industry    2022  200        5000\n",
      "            2023  210        5050\n",
      "Services    2022  300        7000\n",
      "            2023  320        7100\n"
     ]
    }
   ],
   "source": [
    "region_a_data = df.loc['Region A']\n",
    "print(region_a_data)"
   ]
  },
  {
   "cell_type": "code",
   "execution_count": 45,
   "id": "4fcb529b-eef4-4ac4-925d-0af4dedfbac7",
   "metadata": {},
   "outputs": [
    {
     "name": "stdout",
     "output_type": "stream",
     "text": [
      "Region\n",
      "Region A    1235\n",
      "Region B    1540\n",
      "Name: GDP, dtype: int64\n"
     ]
    }
   ],
   "source": [
    "gdp_by_region = df.groupby(level='Region').GDP.sum()\n",
    "print(gdp_by_region)"
   ]
  },
  {
   "cell_type": "code",
   "execution_count": 46,
   "id": "0699891e-4803-41da-846e-701fea43d22a",
   "metadata": {},
   "outputs": [
    {
     "name": "stdout",
     "output_type": "stream",
     "text": [
      "             GDP  Employment\n",
      "Sector                      \n",
      "Agriculture  105        1020\n",
      "Industry     210        5050\n",
      "Services     320        7100\n"
     ]
    }
   ],
   "source": [
    "region_a_2023 = df.loc[('Region A', slice(None), 2023)]\n",
    "print(region_a_2023)"
   ]
  },
  {
   "cell_type": "code",
   "execution_count": 47,
   "id": "3c36c4e6-0343-4838-a229-66ce238338a2",
   "metadata": {},
   "outputs": [
    {
     "name": "stdout",
     "output_type": "stream",
     "text": [
      "               GDP  Employment\n",
      "Region   Year                 \n",
      "Region A 2022  200        5000\n",
      "         2023  210        5050\n",
      "Region B 2022  250        5200\n",
      "         2023  260        5300\n"
     ]
    }
   ],
   "source": [
    "industry_data = df.loc[(slice(None), 'Industry', slice(None))]\n",
    "print(industry_data)"
   ]
  },
  {
   "cell_type": "code",
   "execution_count": 48,
   "id": "da5933ee-4340-4db5-b666-c65e75c9fb45",
   "metadata": {},
   "outputs": [
    {
     "name": "stdout",
     "output_type": "stream",
     "text": [
      "Year\n",
      "2022    1350\n",
      "2023    1425\n",
      "Name: GDP, dtype: int64\n"
     ]
    }
   ],
   "source": [
    "gdp_by_year = df.groupby(level='Year').GDP.sum()\n",
    "print(gdp_by_year)"
   ]
  },
  {
   "cell_type": "code",
   "execution_count": 49,
   "id": "2931f587-f605-4449-93ba-e9c3605e30be",
   "metadata": {},
   "outputs": [
    {
     "name": "stdout",
     "output_type": "stream",
     "text": [
      "                  GDP  Employment\n",
      "Sector      Year                 \n",
      "Agriculture 2022  100        1000\n",
      "            2023  105        1020\n",
      "Industry    2022  200        5000\n",
      "            2023  210        5050\n",
      "Services    2022  300        7000\n",
      "            2023  320        7100\n"
     ]
    }
   ],
   "source": [
    "region_a_data = df.loc['Region A']\n",
    "print(region_a_data)"
   ]
  },
  {
   "cell_type": "code",
   "execution_count": 50,
   "id": "6cc9d374-8f33-4642-a066-46541b2d1a52",
   "metadata": {},
   "outputs": [
    {
     "name": "stdout",
     "output_type": "stream",
     "text": [
      "Region\n",
      "Region A    1235\n",
      "Region B    1540\n",
      "Name: GDP, dtype: int64\n"
     ]
    }
   ],
   "source": [
    "gdp_by_region = df.groupby(level='Region').GDP.sum()\n",
    "print(gdp_by_region)"
   ]
  },
  {
   "cell_type": "code",
   "execution_count": null,
   "id": "17add00f-93de-420b-b1dd-0a7bf56a116d",
   "metadata": {},
   "outputs": [],
   "source": []
  }
 ],
 "metadata": {
  "kernelspec": {
   "display_name": "Python 3 (ipykernel)",
   "language": "python",
   "name": "python3"
  },
  "language_info": {
   "codemirror_mode": {
    "name": "ipython",
    "version": 3
   },
   "file_extension": ".py",
   "mimetype": "text/x-python",
   "name": "python",
   "nbconvert_exporter": "python",
   "pygments_lexer": "ipython3",
   "version": "3.8.7"
  }
 },
 "nbformat": 4,
 "nbformat_minor": 5
}
