{
 "cells": [
  {
   "cell_type": "code",
   "execution_count": 1,
   "id": "d02c607f-a097-49e0-b574-a511e5b431de",
   "metadata": {},
   "outputs": [],
   "source": [
    "import pandas as pd\n",
    "\n",
    "data = {'col1': [1, 2, None, 4], 'col2': [5, None, 7, 8]}\n",
    "df = pd.DataFrame(data)"
   ]
  },
  {
   "cell_type": "code",
   "execution_count": 2,
   "id": "b192e704-58f6-401b-9f5f-1e2fa9d04d73",
   "metadata": {},
   "outputs": [
    {
     "name": "stdout",
     "output_type": "stream",
     "text": [
      "   col1  col2\n",
      "0   1.0   5.0\n",
      "1   2.0   NaN\n",
      "2   NaN   7.0\n",
      "3   4.0   8.0\n"
     ]
    }
   ],
   "source": [
    "print(df)"
   ]
  },
  {
   "cell_type": "code",
   "execution_count": 4,
   "id": "ec8f3c29-c477-4805-a88a-b914bd7a95e1",
   "metadata": {},
   "outputs": [
    {
     "name": "stdout",
     "output_type": "stream",
     "text": [
      "    col1   col2\n",
      "0  False  False\n",
      "1  False   True\n",
      "2   True  False\n",
      "3  False  False\n"
     ]
    }
   ],
   "source": [
    "print(df.isna())"
   ]
  },
  {
   "cell_type": "code",
   "execution_count": 6,
   "id": "ee66c81b-fd0f-495c-a988-7d8367ee1797",
   "metadata": {},
   "outputs": [
    {
     "name": "stdout",
     "output_type": "stream",
     "text": [
      "    col1   col2\n",
      "0   True   True\n",
      "1   True  False\n",
      "2  False   True\n",
      "3   True   True\n"
     ]
    }
   ],
   "source": [
    "print(df.notna())"
   ]
  },
  {
   "cell_type": "code",
   "execution_count": 7,
   "id": "39870f34-4a28-4a35-ba35-6ff973ee6a5b",
   "metadata": {},
   "outputs": [
    {
     "name": "stdout",
     "output_type": "stream",
     "text": [
      "   col1  col2\n",
      "0   1.0   5.0\n",
      "1   2.0   NaN\n",
      "2   NaN   7.0\n",
      "3   4.0   8.0\n"
     ]
    }
   ],
   "source": [
    "print(df)"
   ]
  },
  {
   "cell_type": "code",
   "execution_count": null,
   "id": "675a98d6-3ca5-4d2c-92cd-84d7b3fdf6cb",
   "metadata": {},
   "outputs": [],
   "source": [
    "df.dropna() # Удалит строки 1 и 2\n",
    "df.dropna(axis=1) # Удалим столбцы col1 и col2\n",
    "df.dropna(how='all') # Не удалит ни одной строки"
   ]
  },
  {
   "cell_type": "code",
   "execution_count": 1,
   "id": "cb225265-5583-4eb5-a0cf-a2eb679d0fa2",
   "metadata": {},
   "outputs": [
    {
     "name": "stdout",
     "output_type": "stream",
     "text": [
      "    Name   Age             City\n",
      "0   Анна  28.0           Москва\n",
      "1   Иван  32.0  Санкт-Петербург\n",
      "2  Елена   NaN           Москва\n",
      "3   Петр  25.0             None\n"
     ]
    }
   ],
   "source": [
    "import pandas as pd\n",
    "\n",
    "data = {'Name': ['Анна', 'Иван', 'Елена', 'Петр'],\n",
    "        'Age': [28, 32, None, 25],\n",
    "        'City': ['Москва', 'Санкт-Петербург', 'Москва', None]}\n",
    "\n",
    "df = pd.DataFrame(data)\n",
    "print(df)"
   ]
  },
  {
   "cell_type": "code",
   "execution_count": 3,
   "id": "afd40e82-d8f3-4feb-8a54-9001e596a6b8",
   "metadata": {},
   "outputs": [
    {
     "name": "stdout",
     "output_type": "stream",
     "text": [
      "0    28.000000\n",
      "1    32.000000\n",
      "2    28.333333\n",
      "3    25.000000\n",
      "Name: Age, dtype: float64\n"
     ]
    }
   ],
   "source": [
    "print(df['Age'].fillna(df['Age'].mean())) #Заменит пропуски в столбце 'Age' средним значением."
   ]
  },
  {
   "cell_type": "code",
   "execution_count": 4,
   "id": "54807f77-01e5-4c3e-857f-3d027a6e99ed",
   "metadata": {},
   "outputs": [
    {
     "name": "stdout",
     "output_type": "stream",
     "text": [
      "     A    B\n",
      "0  1.0  5.0\n",
      "1  2.0  NaN\n",
      "2  NaN  6.0\n",
      "3  4.0  NaN\n",
      "4  NaN  8.0\n",
      "5  NaN  NaN\n"
     ]
    }
   ],
   "source": [
    "df = pd.DataFrame({'A': [1, 2, None, 4, None, None], \n",
    "                   'B': [5, None, 6, None, 8, None]})\n",
    "print(df)"
   ]
  },
  {
   "cell_type": "code",
   "execution_count": 6,
   "id": "c217a36b-868c-473d-b478-7adcec3db7b8",
   "metadata": {},
   "outputs": [],
   "source": [
    "df_ffill = df.fillna(method='ffill')"
   ]
  },
  {
   "cell_type": "code",
   "execution_count": 7,
   "id": "99e81f40-a34d-4703-8117-ba7ac54b71f2",
   "metadata": {},
   "outputs": [
    {
     "name": "stdout",
     "output_type": "stream",
     "text": [
      "     A    B\n",
      "0  1.0  5.0\n",
      "1  2.0  5.0\n",
      "2  2.0  6.0\n",
      "3  4.0  6.0\n",
      "4  4.0  8.0\n",
      "5  4.0  8.0\n"
     ]
    }
   ],
   "source": [
    "print(df_ffill)"
   ]
  },
  {
   "cell_type": "code",
   "execution_count": 8,
   "id": "eb99383d-312e-44b4-9f3e-9a1c559d402c",
   "metadata": {},
   "outputs": [],
   "source": [
    "df_ffill = df.fillna(method='bfill')"
   ]
  },
  {
   "cell_type": "code",
   "execution_count": 9,
   "id": "ddf1556b-08ed-4a87-ac65-c84aad3ac806",
   "metadata": {},
   "outputs": [
    {
     "name": "stdout",
     "output_type": "stream",
     "text": [
      "     A    B\n",
      "0  1.0  5.0\n",
      "1  2.0  6.0\n",
      "2  4.0  6.0\n",
      "3  4.0  8.0\n",
      "4  NaN  8.0\n",
      "5  NaN  NaN\n"
     ]
    }
   ],
   "source": [
    "print(df_ffill)"
   ]
  },
  {
   "cell_type": "code",
   "execution_count": 37,
   "id": "61a6348a-bd85-4b29-821c-4c28a956a13d",
   "metadata": {},
   "outputs": [
    {
     "name": "stdout",
     "output_type": "stream",
     "text": [
      "    Name  Age\n",
      "0   Анна   28\n",
      "1   Иван   32\n",
      "2  Елена   50\n",
      "3   Петр   25\n"
     ]
    }
   ],
   "source": [
    "data = {'Name': ['Анна', 'Иван', 'Елена', 'Петр'],\n",
    "        'Age': [28, 32, 50, 25]}\n",
    "\n",
    "df = pd.DataFrame(data)\n",
    "print(df)"
   ]
  },
  {
   "cell_type": "code",
   "execution_count": 38,
   "id": "09795c51-e134-444f-9e66-e18951b75274",
   "metadata": {},
   "outputs": [
    {
     "name": "stdout",
     "output_type": "stream",
     "text": [
      "         Name  Age\n",
      "0    АннаАнна   56\n",
      "1    ИванИван   64\n",
      "2  ЕленаЕлена  100\n",
      "3    ПетрПетр   50\n"
     ]
    }
   ],
   "source": [
    "# Функция для удвоения значения\n",
    "def double_value(x):\n",
    "  return x * 2\n",
    "\n",
    "# Применяем к каждому элементу\n",
    "print(df.applymap(double_value))"
   ]
  },
  {
   "cell_type": "code",
   "execution_count": 39,
   "id": "d3489435-2d84-43e5-8e61-1494a237c144",
   "metadata": {},
   "outputs": [
    {
     "name": "stdout",
     "output_type": "stream",
     "text": [
      "    Name  Age Age Group\n",
      "0   Анна   28   Молодой\n",
      "1   Иван   32  Взрослый\n",
      "2  Елена   50  Взрослый\n",
      "3   Петр   25   Молодой\n"
     ]
    }
   ],
   "source": [
    "def categorize_age(age):\n",
    "  if age < 30:\n",
    "    return 'Молодой'\n",
    "  else:\n",
    "    return 'Взрослый'\n",
    "\n",
    "# Применение функции к столбцу\n",
    "df['Age Group'] = df['Age'].apply(categorize_age)\n",
    "print(df)"
   ]
  },
  {
   "cell_type": "code",
   "execution_count": 40,
   "id": "e4bcd80d-5895-47ef-aec0-aff956113148",
   "metadata": {},
   "outputs": [
    {
     "name": "stdout",
     "output_type": "stream",
     "text": [
      "    Name  Age Age Group  Total Length\n",
      "0   Анна   28   Молодой            13\n",
      "1   Иван   32  Взрослый            14\n",
      "2  Елена   50  Взрослый            15\n",
      "3   Петр   25   Молодой            13\n"
     ]
    }
   ],
   "source": [
    "def calculate_total_length(row):\n",
    "  return len(row['Name'] + str(row['Age']) + row['Age Group'])\n",
    "\n",
    "#Применение функции к строке\n",
    "df['Total Length'] = df.apply(calculate_total_length, axis=1)\n",
    "print(df)"
   ]
  },
  {
   "cell_type": "code",
   "execution_count": 41,
   "id": "c89d8a02-3083-416e-9f5a-4b0c8607bd49",
   "metadata": {},
   "outputs": [
    {
     "name": "stdout",
     "output_type": "stream",
     "text": [
      "    Name  Age Age Group  Total Length  Age Squared\n",
      "0   Анна   28   Молодой            13          784\n",
      "1   Иван   32  Взрослый            14         1024\n",
      "2  Елена   50  Взрослый            15         2500\n",
      "3   Петр   25   Молодой            13          625\n"
     ]
    }
   ],
   "source": [
    "df['Age Squared'] = df['Age'].apply(lambda x: x**2)\n",
    "print(df)"
   ]
  },
  {
   "cell_type": "code",
   "execution_count": null,
   "id": "34ea55c3-5e80-4278-bad9-51dd8343c4cf",
   "metadata": {},
   "outputs": [],
   "source": []
  }
 ],
 "metadata": {
  "kernelspec": {
   "display_name": "Python 3 (ipykernel)",
   "language": "python",
   "name": "python3"
  },
  "language_info": {
   "codemirror_mode": {
    "name": "ipython",
    "version": 3
   },
   "file_extension": ".py",
   "mimetype": "text/x-python",
   "name": "python",
   "nbconvert_exporter": "python",
   "pygments_lexer": "ipython3",
   "version": "3.8.7"
  }
 },
 "nbformat": 4,
 "nbformat_minor": 5
}
